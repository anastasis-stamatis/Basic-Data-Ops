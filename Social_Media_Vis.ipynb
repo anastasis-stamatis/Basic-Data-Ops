{
 "cells": [
  {
   "cell_type": "markdown",
   "metadata": {},
   "source": [
    "# Social media analysis"
   ]
  },
  {
   "cell_type": "markdown",
   "metadata": {},
   "source": [
    "Performing basic analysis on social media data over time. The data has been downloaded via a script set to run daily on Google Cloud Platform."
   ]
  },
  {
   "cell_type": "code",
   "execution_count": 1,
   "metadata": {},
   "outputs": [],
   "source": [
    "import pandas as pd\n",
    "import numpy as np\n",
    "\n",
    "from collections import defaultdict\n",
    "import re\n",
    "import math\n",
    "import os\n",
    "\n",
    "import matplotlib.pyplot as plt\n",
    "import matplotlib as matplot\n",
    "from matplotlib import cm\n",
    "import seaborn as sns\n",
    "import itertools\n",
    "import pickle\n",
    "\n",
    "from tqdm import tqdm\n",
    "\n",
    "%matplotlib inline\n",
    "# Matplotlib params\n",
    "plt.rcParams['figure.figsize'] = (16,9)\n",
    "plt.style.use('ggplot')\n",
    "\n",
    "# Pandas display options\n",
    "pd.set_option('display.max_columns',1000)\n",
    "pd.set_option('display.max_rows',1000)\n",
    "\n",
    "# show all outputs\n",
    "from IPython.core.interactiveshell import InteractiveShell\n",
    "InteractiveShell.ast_node_interactivity = \"all\""
   ]
  },
  {
   "cell_type": "code",
   "execution_count": 8,
   "metadata": {},
   "outputs": [],
   "source": [
    "data_files = os.listdir('data')"
   ]
  },
  {
   "cell_type": "code",
   "execution_count": 12,
   "metadata": {},
   "outputs": [],
   "source": [
    "data = defaultdict()\n",
    "for data_file in data_files:\n",
    "    key = re.sub('.pkl|ig - ','',data_file)\n",
    "    data[key] = pickle.load( open(\"data/\"+data_file,\"rb\"))"
   ]
  },
  {
   "cell_type": "markdown",
   "metadata": {},
   "source": [
    "# Data prep"
   ]
  },
  {
   "cell_type": "markdown",
   "metadata": {},
   "source": [
    "### append_index"
   ]
  },
  {
   "cell_type": "code",
   "execution_count": 13,
   "metadata": {},
   "outputs": [],
   "source": [
    "def append_index(d, i, axis=0):\n",
    "    \"\"\" Append index to outer level of dataframe.\n",
    "    f: dataframe\n",
    "    i: string to be given as outer index\n",
    "    \n",
    "    axis: 0 for rows, 1 for columns\"\"\"\n",
    "    f = d.copy()\n",
    "    \n",
    "    if axis == 0:\n",
    "        ind = [np.array([i]*f.shape[0]),f.index]\n",
    "        return f.set_index(ind)\n",
    "    \n",
    "    elif axis == 1:\n",
    "        cols = np.vstack((np.array([i]*f.shape[1]),\n",
    "                  np.array(f.columns.tolist()).T)) \n",
    "        f.columns = cols.tolist()\n",
    "        return f"
   ]
  },
  {
   "cell_type": "markdown",
   "metadata": {},
   "source": [
    "## General"
   ]
  },
  {
   "cell_type": "code",
   "execution_count": 14,
   "metadata": {},
   "outputs": [],
   "source": [
    "data['2020-06-08'] = data['2020-06-08']['2020-06-08']"
   ]
  },
  {
   "cell_type": "code",
   "execution_count": 15,
   "metadata": {},
   "outputs": [],
   "source": [
    "out = defaultdict()"
   ]
  },
  {
   "cell_type": "markdown",
   "metadata": {},
   "source": [
    "## Posts"
   ]
  },
  {
   "cell_type": "code",
   "execution_count": 16,
   "metadata": {},
   "outputs": [],
   "source": [
    "posts = pd.DataFrame()\n",
    "for key in reversed(list(data.keys())):\n",
    "    temp = data[key]['Posts']\n",
    "    temp['date captured'] = key \n",
    "    posts = pd.concat([posts,temp],axis=0,sort=False)"
   ]
  },
  {
   "cell_type": "code",
   "execution_count": 17,
   "metadata": {},
   "outputs": [],
   "source": [
    "from datetime import datetime"
   ]
  },
  {
   "cell_type": "code",
   "execution_count": 18,
   "metadata": {},
   "outputs": [],
   "source": [
    "posts['timestamp'] = posts['timestamp'].apply(lambda x: x.date)\n",
    "posts['date captured'] = posts['date captured'].apply(lambda x: datetime.strptime(x,'%Y-%m-%d'))"
   ]
  },
  {
   "cell_type": "code",
   "execution_count": 19,
   "metadata": {},
   "outputs": [],
   "source": [
    "posts = posts.sort_values(by = 'date captured').drop_duplicates(subset = ['permalink'],keep='last').sort_values(by='timestamp')"
   ]
  },
  {
   "cell_type": "code",
   "execution_count": 20,
   "metadata": {},
   "outputs": [],
   "source": [
    "out['Posts'] = posts"
   ]
  },
  {
   "cell_type": "code",
   "execution_count": 21,
   "metadata": {},
   "outputs": [
    {
     "data": {
      "text/html": [
       "<div>\n",
       "<style scoped>\n",
       "    .dataframe tbody tr th:only-of-type {\n",
       "        vertical-align: middle;\n",
       "    }\n",
       "\n",
       "    .dataframe tbody tr th {\n",
       "        vertical-align: top;\n",
       "    }\n",
       "\n",
       "    .dataframe thead th {\n",
       "        text-align: right;\n",
       "    }\n",
       "</style>\n",
       "<table border=\"1\" class=\"dataframe\">\n",
       "  <thead>\n",
       "    <tr style=\"text-align: right;\">\n",
       "      <th></th>\n",
       "      <th>caption</th>\n",
       "      <th>media_type</th>\n",
       "      <th>media_url</th>\n",
       "      <th>permalink</th>\n",
       "      <th>timestamp</th>\n",
       "      <th>like_count</th>\n",
       "      <th>comments_count</th>\n",
       "      <th>username</th>\n",
       "      <th>comments</th>\n",
       "      <th>thumbnail_url</th>\n",
       "      <th>engagement</th>\n",
       "      <th>impressions</th>\n",
       "      <th>reach</th>\n",
       "      <th>saved</th>\n",
       "      <th>date captured</th>\n",
       "      <th>video_views</th>\n",
       "    </tr>\n",
       "    <tr>\n",
       "      <th>id</th>\n",
       "      <th></th>\n",
       "      <th></th>\n",
       "      <th></th>\n",
       "      <th></th>\n",
       "      <th></th>\n",
       "      <th></th>\n",
       "      <th></th>\n",
       "      <th></th>\n",
       "      <th></th>\n",
       "      <th></th>\n",
       "      <th></th>\n",
       "      <th></th>\n",
       "      <th></th>\n",
       "      <th></th>\n",
       "      <th></th>\n",
       "      <th></th>\n",
       "    </tr>\n",
       "  </thead>\n",
       "  <tbody>\n",
       "    <tr>\n",
       "      <th>17885204251555145</th>\n",
       "      <td>Με αφορμή τον σημερινό εορτασμό της Παγκόσμιας...</td>\n",
       "      <td>IMAGE</td>\n",
       "      <td>https://scontent.cdninstagram.com/v/t51.29350-...</td>\n",
       "      <td>https://www.instagram.com/p/B_R_bY2l4Tq/</td>\n",
       "      <td>2020-04-22</td>\n",
       "      <td>225</td>\n",
       "      <td>2</td>\n",
       "      <td>letsdoitgreece</td>\n",
       "      <td>{'data': [{'timestamp': '2020-04-22T18:29:51+0...</td>\n",
       "      <td>NaN</td>\n",
       "      <td>229</td>\n",
       "      <td>2123</td>\n",
       "      <td>1912</td>\n",
       "      <td>2</td>\n",
       "      <td>2020-06-08</td>\n",
       "      <td>NaN</td>\n",
       "    </tr>\n",
       "  </tbody>\n",
       "</table>\n",
       "</div>"
      ],
      "text/plain": [
       "                                                             caption  \\\n",
       "id                                                                     \n",
       "17885204251555145  Με αφορμή τον σημερινό εορτασμό της Παγκόσμιας...   \n",
       "\n",
       "                  media_type  \\\n",
       "id                             \n",
       "17885204251555145      IMAGE   \n",
       "\n",
       "                                                           media_url  \\\n",
       "id                                                                     \n",
       "17885204251555145  https://scontent.cdninstagram.com/v/t51.29350-...   \n",
       "\n",
       "                                                  permalink   timestamp  \\\n",
       "id                                                                        \n",
       "17885204251555145  https://www.instagram.com/p/B_R_bY2l4Tq/  2020-04-22   \n",
       "\n",
       "                   like_count  comments_count        username  \\\n",
       "id                                                              \n",
       "17885204251555145         225               2  letsdoitgreece   \n",
       "\n",
       "                                                            comments  \\\n",
       "id                                                                     \n",
       "17885204251555145  {'data': [{'timestamp': '2020-04-22T18:29:51+0...   \n",
       "\n",
       "                  thumbnail_url  engagement  impressions  reach  saved  \\\n",
       "id                                                                       \n",
       "17885204251555145           NaN         229         2123   1912      2   \n",
       "\n",
       "                  date captured  video_views  \n",
       "id                                            \n",
       "17885204251555145    2020-06-08          NaN  "
      ]
     },
     "execution_count": 21,
     "metadata": {},
     "output_type": "execute_result"
    }
   ],
   "source": [
    "posts.sample()"
   ]
  },
  {
   "cell_type": "markdown",
   "metadata": {},
   "source": [
    "## Stories"
   ]
  },
  {
   "cell_type": "code",
   "execution_count": 54,
   "metadata": {},
   "outputs": [],
   "source": [
    "stories = pd.DataFrame()\n",
    "for key in reversed(list(data.keys())):\n",
    "    temp = data[key]['Stories'].drop([p for p in stories.index.tolist() if p in data[key]['Stories'].index.tolist()])\n",
    "    stories = pd.concat([stories,temp],axis=0,sort=False)"
   ]
  },
  {
   "cell_type": "code",
   "execution_count": 56,
   "metadata": {},
   "outputs": [],
   "source": [
    "stories = stories.sort_values(by =[ 'datetime','impressions'],ascending = [True,False])"
   ]
  },
  {
   "cell_type": "code",
   "execution_count": 57,
   "metadata": {},
   "outputs": [],
   "source": [
    "s_total = stories[['exits','impressions','reach','replies','taps_forward','taps_back','datetime']].\\\n",
    "                        set_index('datetime').astype('int64').groupby(axis=0,level=0).sum()"
   ]
  },
  {
   "cell_type": "code",
   "execution_count": 58,
   "metadata": {},
   "outputs": [],
   "source": [
    "s_mean = stories[['exits','impressions','reach','replies','taps_forward','taps_back','datetime']].\\\n",
    "                        set_index('datetime').astype('int64').groupby(axis=0,level=0).mean()\n",
    "\n",
    "s_m_norm = s_mean.T.div(s_mean['reach']).T"
   ]
  },
  {
   "cell_type": "code",
   "execution_count": 59,
   "metadata": {},
   "outputs": [],
   "source": [
    "s_count = stories.groupby('datetime').count()['reach'].to_frame()"
   ]
  },
  {
   "cell_type": "code",
   "execution_count": 60,
   "metadata": {},
   "outputs": [],
   "source": [
    "from sklearn.preprocessing import MinMaxScaler"
   ]
  },
  {
   "cell_type": "code",
   "execution_count": 61,
   "metadata": {},
   "outputs": [],
   "source": [
    "sc = MinMaxScaler(feature_range = (0,s_mean['reach'].max()*0.8))"
   ]
  },
  {
   "cell_type": "code",
   "execution_count": 62,
   "metadata": {},
   "outputs": [],
   "source": [
    "to_fit = s_count['reach']"
   ]
  },
  {
   "cell_type": "code",
   "execution_count": 63,
   "metadata": {},
   "outputs": [],
   "source": [
    "normalized_cnt = sc.fit_transform(np.append(to_fit,0).reshape(-1,1))"
   ]
  },
  {
   "cell_type": "code",
   "execution_count": 64,
   "metadata": {},
   "outputs": [],
   "source": [
    "s_count['normalized count'] = normalized_cnt[:-1]"
   ]
  },
  {
   "cell_type": "code",
   "execution_count": 65,
   "metadata": {},
   "outputs": [],
   "source": [
    "stories_out = pd.concat([append_index(s_total,'Sum',axis=1),\n",
    "                         append_index(s_mean,'Mean',axis=1),\n",
    "                       append_index(s_count['reach'].to_frame(),'Count',axis=1)],\n",
    "                      axis=1,sort=False)"
   ]
  },
  {
   "cell_type": "code",
   "execution_count": 66,
   "metadata": {},
   "outputs": [],
   "source": [
    "stories_out.loc['2020-06-18'] = np.nan\n",
    "stories_out.dropna(how='all',inplace=True)"
   ]
  },
  {
   "cell_type": "code",
   "execution_count": 67,
   "metadata": {},
   "outputs": [],
   "source": [
    "out['Stories'] = stories_out"
   ]
  },
  {
   "cell_type": "code",
   "execution_count": 68,
   "metadata": {},
   "outputs": [
    {
     "data": {
      "text/html": [
       "<div>\n",
       "<style scoped>\n",
       "    .dataframe tbody tr th:only-of-type {\n",
       "        vertical-align: middle;\n",
       "    }\n",
       "\n",
       "    .dataframe tbody tr th {\n",
       "        vertical-align: top;\n",
       "    }\n",
       "\n",
       "    .dataframe thead tr th {\n",
       "        text-align: left;\n",
       "    }\n",
       "\n",
       "    .dataframe thead tr:last-of-type th {\n",
       "        text-align: right;\n",
       "    }\n",
       "</style>\n",
       "<table border=\"1\" class=\"dataframe\">\n",
       "  <thead>\n",
       "    <tr>\n",
       "      <th></th>\n",
       "      <th colspan=\"6\" halign=\"left\">Sum</th>\n",
       "      <th colspan=\"6\" halign=\"left\">Mean</th>\n",
       "      <th>Count</th>\n",
       "    </tr>\n",
       "    <tr>\n",
       "      <th></th>\n",
       "      <th>exits</th>\n",
       "      <th>impressions</th>\n",
       "      <th>reach</th>\n",
       "      <th>replies</th>\n",
       "      <th>taps_forward</th>\n",
       "      <th>taps_back</th>\n",
       "      <th>exits</th>\n",
       "      <th>impressions</th>\n",
       "      <th>reach</th>\n",
       "      <th>replies</th>\n",
       "      <th>taps_forward</th>\n",
       "      <th>taps_back</th>\n",
       "      <th>reach</th>\n",
       "    </tr>\n",
       "    <tr>\n",
       "      <th>datetime</th>\n",
       "      <th></th>\n",
       "      <th></th>\n",
       "      <th></th>\n",
       "      <th></th>\n",
       "      <th></th>\n",
       "      <th></th>\n",
       "      <th></th>\n",
       "      <th></th>\n",
       "      <th></th>\n",
       "      <th></th>\n",
       "      <th></th>\n",
       "      <th></th>\n",
       "      <th></th>\n",
       "    </tr>\n",
       "  </thead>\n",
       "  <tbody>\n",
       "    <tr>\n",
       "      <th>2020-06-08</th>\n",
       "      <td>159.0</td>\n",
       "      <td>3266.0</td>\n",
       "      <td>2914.0</td>\n",
       "      <td>5.0</td>\n",
       "      <td>2197.0</td>\n",
       "      <td>109.0</td>\n",
       "      <td>31.8</td>\n",
       "      <td>653.2</td>\n",
       "      <td>582.8</td>\n",
       "      <td>1.0</td>\n",
       "      <td>439.4</td>\n",
       "      <td>21.8</td>\n",
       "      <td>5.0</td>\n",
       "    </tr>\n",
       "  </tbody>\n",
       "</table>\n",
       "</div>"
      ],
      "text/plain": [
       "              Sum                                                     Mean  \\\n",
       "            exits impressions   reach replies taps_forward taps_back exits   \n",
       "datetime                                                                     \n",
       "2020-06-08  159.0      3266.0  2914.0     5.0       2197.0     109.0  31.8   \n",
       "\n",
       "                                                             Count  \n",
       "           impressions  reach replies taps_forward taps_back reach  \n",
       "datetime                                                            \n",
       "2020-06-08       653.2  582.8     1.0        439.4      21.8   5.0  "
      ]
     },
     "execution_count": 68,
     "metadata": {},
     "output_type": "execute_result"
    }
   ],
   "source": [
    "stories_out.sample()"
   ]
  },
  {
   "cell_type": "markdown",
   "metadata": {},
   "source": [
    "# Followers data"
   ]
  },
  {
   "cell_type": "code",
   "execution_count": 36,
   "metadata": {},
   "outputs": [],
   "source": [
    "account = pd.Series(dtype='int64',name = 'followers')\n",
    "for key in data.keys():\n",
    "    try:\n",
    "        account[key] = data[key]['basic info'].loc['followers_count','business_discovery']\n",
    "    except:\n",
    "        continue"
   ]
  },
  {
   "cell_type": "code",
   "execution_count": 37,
   "metadata": {},
   "outputs": [],
   "source": [
    "out['Account'] = account.to_frame()"
   ]
  },
  {
   "cell_type": "code",
   "execution_count": 39,
   "metadata": {},
   "outputs": [
    {
     "data": {
      "text/plain": [
       "2020-06-22    4375\n",
       "Name: followers, dtype: int64"
      ]
     },
     "execution_count": 39,
     "metadata": {},
     "output_type": "execute_result"
    }
   ],
   "source": [
    "account.sample()"
   ]
  },
  {
   "cell_type": "markdown",
   "metadata": {},
   "source": [
    "# Output"
   ]
  },
  {
   "cell_type": "code",
   "execution_count": 152,
   "metadata": {},
   "outputs": [],
   "source": [
    "import pickle\n",
    "pickle.dump(out,open('outputs/social_data.pkl','wb'))"
   ]
  },
  {
   "cell_type": "markdown",
   "metadata": {},
   "source": [
    "# Plot"
   ]
  },
  {
   "cell_type": "markdown",
   "metadata": {},
   "source": [
    "## Data prep"
   ]
  },
  {
   "cell_type": "code",
   "execution_count": 40,
   "metadata": {},
   "outputs": [],
   "source": [
    "from plotly.subplots import make_subplots\n",
    "import plotly.graph_objects as go"
   ]
  },
  {
   "cell_type": "markdown",
   "metadata": {},
   "source": [
    "## Plot"
   ]
  },
  {
   "cell_type": "code",
   "execution_count": 41,
   "metadata": {},
   "outputs": [],
   "source": [
    "def split_to_lines(string,n_char=30):\n",
    "    stringspl = [string[n:n+n_char] for n in range(0,len(string),n_char)]\n",
    "    new_str = ''.join(s for s in [re.sub(' ','<br>',st,count=1) for st in stringspl])\n",
    "    return new_str"
   ]
  },
  {
   "cell_type": "code",
   "execution_count": 42,
   "metadata": {},
   "outputs": [],
   "source": [
    "def hex2rgb(h):\n",
    "    h = h.lstrip('#')\n",
    "    return tuple(int(h[i:i+2], 16) for i in (0, 2, 4))"
   ]
  },
  {
   "cell_type": "markdown",
   "metadata": {},
   "source": [
    "### style"
   ]
  },
  {
   "cell_type": "code",
   "execution_count": 43,
   "metadata": {},
   "outputs": [],
   "source": [
    "linestyle = {'width':1,'dash':'dot'}"
   ]
  },
  {
   "cell_type": "code",
   "execution_count": 44,
   "metadata": {},
   "outputs": [],
   "source": [
    "colors = {'green_dark':'#449660',\n",
    "         'blue':'#3B8CCA',\n",
    "         'red':'#CE6056',\n",
    "         'orange_light':'#EEAA5C',\n",
    "         'orange_dark':'#D38353',\n",
    "         'brown':'#93725F',\n",
    "         'green_light':'#BCC78B'}"
   ]
  },
  {
   "cell_type": "code",
   "execution_count": 45,
   "metadata": {},
   "outputs": [],
   "source": [
    "posts['caption split'] = posts['caption'].apply(lambda x: split_to_lines(x[:70],n_char=30))"
   ]
  },
  {
   "cell_type": "code",
   "execution_count": 48,
   "metadata": {},
   "outputs": [
    {
     "data": {
      "application/vnd.plotly.v1+json": {
       "config": {
        "plotlyServerURL": "https://plot.ly"
       },
       "data": [
        {
         "hovertemplate": "%{x} <br>Αλληλεπίδρασαν: %{y:.0}<br><br>%{text}",
         "line": {
          "dash": "dot",
          "width": 1
         },
         "marker": {
          "color": "#449660"
         },
         "mode": "lines+markers",
         "name": "Αλληλεπίδρασαν",
         "text": [
          "Στις<br>14 και 15 Μαρτίου είμαστε<br>έτοιμοι να βρεθούμε από κοντά,<br>να μοιρα",
          "Έφτασε<br>η στιγμή να μοιραστούμε<br>μαζί σας το πρώτο σημαντικό στοιχείο<br>γι",
          "Το<br>δεύτερο σημαντικό στοιχείο για<br>την Πανελλαδική Συνάντηση του<br>Let's ",
          "Το<br>τρίτο και τελευταίο σημαντικό<br>στοιχείο για την Πανελλαδική<br>Συνάντησ",
          "Αγαπημένη<br>μας οικογένεια, \nπάνω<br>απ'όλα θέλουμε να είμαστε όλοι<br>υγιείς ",
          "Αγαπημένη<br>μας οικογένεια,\nΑυτές<br>τις μέρες #μένουμε_σπίτι και<br>σας στέλν",
          "Ο<br>εθελοντισμός πάντα είχε αξία<br>ανεκτίμητη τόσο ατομική όσο και<br>συλλογι",
          "#Μένουμε_σπίτι<br>και μέσα από το<br>σκοτάδι αφήνουμε τα αστέρια να<br>μας χαρί",
          "Όταν<br>έχεις δίπλα σου μία ομάδα,<br>μία οικογένεια τίποτα δεν σε<br>φοβίζει!!",
          "Αγαπημένη<br>μας Οικογένεια,\n\nΌλες<br>αυτές τις μέρες, η σκέψη μας,<br>η καρδιά"
         ],
         "type": "scatter",
         "x": [
          "2020-02-19",
          "2020-02-21",
          "2020-02-24",
          "2020-02-25",
          "2020-03-03",
          "2020-03-17",
          "2020-03-23",
          "2020-03-28",
          "2020-04-02",
          "2020-04-21"
         ],
         "xaxis": "x",
         "y": [
          113,
          167,
          88,
          122,
          145,
          139,
          120,
          126,
          223,
          231
         ],
         "yaxis": "y"
        },
        {
         "hovertemplate": "%{x} <br>Είδαν το post: %{y:.0}<br><br>%{text}",
         "line": {
          "dash": "dot",
          "width": 1
         },
         "marker": {
          "color": "#3B8CCA"
         },
         "mode": "lines+markers",
         "name": "Είδαν το post",
         "text": [
          "Στις<br>14 και 15 Μαρτίου είμαστε<br>έτοιμοι να βρεθούμε από κοντά,<br>να μοιρα",
          "Έφτασε<br>η στιγμή να μοιραστούμε<br>μαζί σας το πρώτο σημαντικό στοιχείο<br>γι",
          "Το<br>δεύτερο σημαντικό στοιχείο για<br>την Πανελλαδική Συνάντηση του<br>Let's ",
          "Το<br>τρίτο και τελευταίο σημαντικό<br>στοιχείο για την Πανελλαδική<br>Συνάντησ",
          "Αγαπημένη<br>μας οικογένεια, \nπάνω<br>απ'όλα θέλουμε να είμαστε όλοι<br>υγιείς ",
          "Αγαπημένη<br>μας οικογένεια,\nΑυτές<br>τις μέρες #μένουμε_σπίτι και<br>σας στέλν",
          "Ο<br>εθελοντισμός πάντα είχε αξία<br>ανεκτίμητη τόσο ατομική όσο και<br>συλλογι",
          "#Μένουμε_σπίτι<br>και μέσα από το<br>σκοτάδι αφήνουμε τα αστέρια να<br>μας χαρί",
          "Όταν<br>έχεις δίπλα σου μία ομάδα,<br>μία οικογένεια τίποτα δεν σε<br>φοβίζει!!",
          "Αγαπημένη<br>μας Οικογένεια,\n\nΌλες<br>αυτές τις μέρες, η σκέψη μας,<br>η καρδιά"
         ],
         "type": "scatter",
         "x": [
          "2020-02-19",
          "2020-02-21",
          "2020-02-24",
          "2020-02-25",
          "2020-03-03",
          "2020-03-17",
          "2020-03-23",
          "2020-03-28",
          "2020-04-02",
          "2020-04-21"
         ],
         "xaxis": "x2",
         "y": [
          1460,
          1528,
          1134,
          1343,
          1664,
          1288,
          1440,
          1404,
          1935,
          1867
         ],
         "yaxis": "y2"
        }
       ],
       "layout": {
        "height": 900,
        "paper_bgcolor": "rgba(0, 0, 0, 0)",
        "plot_bgcolor": "rgba(0, 0, 0, 0)",
        "template": {
         "data": {
          "bar": [
           {
            "error_x": {
             "color": "#2a3f5f"
            },
            "error_y": {
             "color": "#2a3f5f"
            },
            "marker": {
             "line": {
              "color": "#E5ECF6",
              "width": 0.5
             }
            },
            "type": "bar"
           }
          ],
          "barpolar": [
           {
            "marker": {
             "line": {
              "color": "#E5ECF6",
              "width": 0.5
             }
            },
            "type": "barpolar"
           }
          ],
          "carpet": [
           {
            "aaxis": {
             "endlinecolor": "#2a3f5f",
             "gridcolor": "white",
             "linecolor": "white",
             "minorgridcolor": "white",
             "startlinecolor": "#2a3f5f"
            },
            "baxis": {
             "endlinecolor": "#2a3f5f",
             "gridcolor": "white",
             "linecolor": "white",
             "minorgridcolor": "white",
             "startlinecolor": "#2a3f5f"
            },
            "type": "carpet"
           }
          ],
          "choropleth": [
           {
            "colorbar": {
             "outlinewidth": 0,
             "ticks": ""
            },
            "type": "choropleth"
           }
          ],
          "contour": [
           {
            "colorbar": {
             "outlinewidth": 0,
             "ticks": ""
            },
            "colorscale": [
             [
              0,
              "#0d0887"
             ],
             [
              0.1111111111111111,
              "#46039f"
             ],
             [
              0.2222222222222222,
              "#7201a8"
             ],
             [
              0.3333333333333333,
              "#9c179e"
             ],
             [
              0.4444444444444444,
              "#bd3786"
             ],
             [
              0.5555555555555556,
              "#d8576b"
             ],
             [
              0.6666666666666666,
              "#ed7953"
             ],
             [
              0.7777777777777778,
              "#fb9f3a"
             ],
             [
              0.8888888888888888,
              "#fdca26"
             ],
             [
              1,
              "#f0f921"
             ]
            ],
            "type": "contour"
           }
          ],
          "contourcarpet": [
           {
            "colorbar": {
             "outlinewidth": 0,
             "ticks": ""
            },
            "type": "contourcarpet"
           }
          ],
          "heatmap": [
           {
            "colorbar": {
             "outlinewidth": 0,
             "ticks": ""
            },
            "colorscale": [
             [
              0,
              "#0d0887"
             ],
             [
              0.1111111111111111,
              "#46039f"
             ],
             [
              0.2222222222222222,
              "#7201a8"
             ],
             [
              0.3333333333333333,
              "#9c179e"
             ],
             [
              0.4444444444444444,
              "#bd3786"
             ],
             [
              0.5555555555555556,
              "#d8576b"
             ],
             [
              0.6666666666666666,
              "#ed7953"
             ],
             [
              0.7777777777777778,
              "#fb9f3a"
             ],
             [
              0.8888888888888888,
              "#fdca26"
             ],
             [
              1,
              "#f0f921"
             ]
            ],
            "type": "heatmap"
           }
          ],
          "heatmapgl": [
           {
            "colorbar": {
             "outlinewidth": 0,
             "ticks": ""
            },
            "colorscale": [
             [
              0,
              "#0d0887"
             ],
             [
              0.1111111111111111,
              "#46039f"
             ],
             [
              0.2222222222222222,
              "#7201a8"
             ],
             [
              0.3333333333333333,
              "#9c179e"
             ],
             [
              0.4444444444444444,
              "#bd3786"
             ],
             [
              0.5555555555555556,
              "#d8576b"
             ],
             [
              0.6666666666666666,
              "#ed7953"
             ],
             [
              0.7777777777777778,
              "#fb9f3a"
             ],
             [
              0.8888888888888888,
              "#fdca26"
             ],
             [
              1,
              "#f0f921"
             ]
            ],
            "type": "heatmapgl"
           }
          ],
          "histogram": [
           {
            "marker": {
             "colorbar": {
              "outlinewidth": 0,
              "ticks": ""
             }
            },
            "type": "histogram"
           }
          ],
          "histogram2d": [
           {
            "colorbar": {
             "outlinewidth": 0,
             "ticks": ""
            },
            "colorscale": [
             [
              0,
              "#0d0887"
             ],
             [
              0.1111111111111111,
              "#46039f"
             ],
             [
              0.2222222222222222,
              "#7201a8"
             ],
             [
              0.3333333333333333,
              "#9c179e"
             ],
             [
              0.4444444444444444,
              "#bd3786"
             ],
             [
              0.5555555555555556,
              "#d8576b"
             ],
             [
              0.6666666666666666,
              "#ed7953"
             ],
             [
              0.7777777777777778,
              "#fb9f3a"
             ],
             [
              0.8888888888888888,
              "#fdca26"
             ],
             [
              1,
              "#f0f921"
             ]
            ],
            "type": "histogram2d"
           }
          ],
          "histogram2dcontour": [
           {
            "colorbar": {
             "outlinewidth": 0,
             "ticks": ""
            },
            "colorscale": [
             [
              0,
              "#0d0887"
             ],
             [
              0.1111111111111111,
              "#46039f"
             ],
             [
              0.2222222222222222,
              "#7201a8"
             ],
             [
              0.3333333333333333,
              "#9c179e"
             ],
             [
              0.4444444444444444,
              "#bd3786"
             ],
             [
              0.5555555555555556,
              "#d8576b"
             ],
             [
              0.6666666666666666,
              "#ed7953"
             ],
             [
              0.7777777777777778,
              "#fb9f3a"
             ],
             [
              0.8888888888888888,
              "#fdca26"
             ],
             [
              1,
              "#f0f921"
             ]
            ],
            "type": "histogram2dcontour"
           }
          ],
          "mesh3d": [
           {
            "colorbar": {
             "outlinewidth": 0,
             "ticks": ""
            },
            "type": "mesh3d"
           }
          ],
          "parcoords": [
           {
            "line": {
             "colorbar": {
              "outlinewidth": 0,
              "ticks": ""
             }
            },
            "type": "parcoords"
           }
          ],
          "pie": [
           {
            "automargin": true,
            "type": "pie"
           }
          ],
          "scatter": [
           {
            "marker": {
             "colorbar": {
              "outlinewidth": 0,
              "ticks": ""
             }
            },
            "type": "scatter"
           }
          ],
          "scatter3d": [
           {
            "line": {
             "colorbar": {
              "outlinewidth": 0,
              "ticks": ""
             }
            },
            "marker": {
             "colorbar": {
              "outlinewidth": 0,
              "ticks": ""
             }
            },
            "type": "scatter3d"
           }
          ],
          "scattercarpet": [
           {
            "marker": {
             "colorbar": {
              "outlinewidth": 0,
              "ticks": ""
             }
            },
            "type": "scattercarpet"
           }
          ],
          "scattergeo": [
           {
            "marker": {
             "colorbar": {
              "outlinewidth": 0,
              "ticks": ""
             }
            },
            "type": "scattergeo"
           }
          ],
          "scattergl": [
           {
            "marker": {
             "colorbar": {
              "outlinewidth": 0,
              "ticks": ""
             }
            },
            "type": "scattergl"
           }
          ],
          "scattermapbox": [
           {
            "marker": {
             "colorbar": {
              "outlinewidth": 0,
              "ticks": ""
             }
            },
            "type": "scattermapbox"
           }
          ],
          "scatterpolar": [
           {
            "marker": {
             "colorbar": {
              "outlinewidth": 0,
              "ticks": ""
             }
            },
            "type": "scatterpolar"
           }
          ],
          "scatterpolargl": [
           {
            "marker": {
             "colorbar": {
              "outlinewidth": 0,
              "ticks": ""
             }
            },
            "type": "scatterpolargl"
           }
          ],
          "scatterternary": [
           {
            "marker": {
             "colorbar": {
              "outlinewidth": 0,
              "ticks": ""
             }
            },
            "type": "scatterternary"
           }
          ],
          "surface": [
           {
            "colorbar": {
             "outlinewidth": 0,
             "ticks": ""
            },
            "colorscale": [
             [
              0,
              "#0d0887"
             ],
             [
              0.1111111111111111,
              "#46039f"
             ],
             [
              0.2222222222222222,
              "#7201a8"
             ],
             [
              0.3333333333333333,
              "#9c179e"
             ],
             [
              0.4444444444444444,
              "#bd3786"
             ],
             [
              0.5555555555555556,
              "#d8576b"
             ],
             [
              0.6666666666666666,
              "#ed7953"
             ],
             [
              0.7777777777777778,
              "#fb9f3a"
             ],
             [
              0.8888888888888888,
              "#fdca26"
             ],
             [
              1,
              "#f0f921"
             ]
            ],
            "type": "surface"
           }
          ],
          "table": [
           {
            "cells": {
             "fill": {
              "color": "#EBF0F8"
             },
             "line": {
              "color": "white"
             }
            },
            "header": {
             "fill": {
              "color": "#C8D4E3"
             },
             "line": {
              "color": "white"
             }
            },
            "type": "table"
           }
          ]
         },
         "layout": {
          "annotationdefaults": {
           "arrowcolor": "#2a3f5f",
           "arrowhead": 0,
           "arrowwidth": 1
          },
          "coloraxis": {
           "colorbar": {
            "outlinewidth": 0,
            "ticks": ""
           }
          },
          "colorscale": {
           "diverging": [
            [
             0,
             "#8e0152"
            ],
            [
             0.1,
             "#c51b7d"
            ],
            [
             0.2,
             "#de77ae"
            ],
            [
             0.3,
             "#f1b6da"
            ],
            [
             0.4,
             "#fde0ef"
            ],
            [
             0.5,
             "#f7f7f7"
            ],
            [
             0.6,
             "#e6f5d0"
            ],
            [
             0.7,
             "#b8e186"
            ],
            [
             0.8,
             "#7fbc41"
            ],
            [
             0.9,
             "#4d9221"
            ],
            [
             1,
             "#276419"
            ]
           ],
           "sequential": [
            [
             0,
             "#0d0887"
            ],
            [
             0.1111111111111111,
             "#46039f"
            ],
            [
             0.2222222222222222,
             "#7201a8"
            ],
            [
             0.3333333333333333,
             "#9c179e"
            ],
            [
             0.4444444444444444,
             "#bd3786"
            ],
            [
             0.5555555555555556,
             "#d8576b"
            ],
            [
             0.6666666666666666,
             "#ed7953"
            ],
            [
             0.7777777777777778,
             "#fb9f3a"
            ],
            [
             0.8888888888888888,
             "#fdca26"
            ],
            [
             1,
             "#f0f921"
            ]
           ],
           "sequentialminus": [
            [
             0,
             "#0d0887"
            ],
            [
             0.1111111111111111,
             "#46039f"
            ],
            [
             0.2222222222222222,
             "#7201a8"
            ],
            [
             0.3333333333333333,
             "#9c179e"
            ],
            [
             0.4444444444444444,
             "#bd3786"
            ],
            [
             0.5555555555555556,
             "#d8576b"
            ],
            [
             0.6666666666666666,
             "#ed7953"
            ],
            [
             0.7777777777777778,
             "#fb9f3a"
            ],
            [
             0.8888888888888888,
             "#fdca26"
            ],
            [
             1,
             "#f0f921"
            ]
           ]
          },
          "colorway": [
           "#636efa",
           "#EF553B",
           "#00cc96",
           "#ab63fa",
           "#FFA15A",
           "#19d3f3",
           "#FF6692",
           "#B6E880",
           "#FF97FF",
           "#FECB52"
          ],
          "font": {
           "color": "#2a3f5f"
          },
          "geo": {
           "bgcolor": "white",
           "lakecolor": "white",
           "landcolor": "#E5ECF6",
           "showlakes": true,
           "showland": true,
           "subunitcolor": "white"
          },
          "hoverlabel": {
           "align": "left"
          },
          "hovermode": "closest",
          "mapbox": {
           "style": "light"
          },
          "paper_bgcolor": "white",
          "plot_bgcolor": "#E5ECF6",
          "polar": {
           "angularaxis": {
            "gridcolor": "white",
            "linecolor": "white",
            "ticks": ""
           },
           "bgcolor": "#E5ECF6",
           "radialaxis": {
            "gridcolor": "white",
            "linecolor": "white",
            "ticks": ""
           }
          },
          "scene": {
           "xaxis": {
            "backgroundcolor": "#E5ECF6",
            "gridcolor": "white",
            "gridwidth": 2,
            "linecolor": "white",
            "showbackground": true,
            "ticks": "",
            "zerolinecolor": "white"
           },
           "yaxis": {
            "backgroundcolor": "#E5ECF6",
            "gridcolor": "white",
            "gridwidth": 2,
            "linecolor": "white",
            "showbackground": true,
            "ticks": "",
            "zerolinecolor": "white"
           },
           "zaxis": {
            "backgroundcolor": "#E5ECF6",
            "gridcolor": "white",
            "gridwidth": 2,
            "linecolor": "white",
            "showbackground": true,
            "ticks": "",
            "zerolinecolor": "white"
           }
          },
          "shapedefaults": {
           "line": {
            "color": "#2a3f5f"
           }
          },
          "ternary": {
           "aaxis": {
            "gridcolor": "white",
            "linecolor": "white",
            "ticks": ""
           },
           "baxis": {
            "gridcolor": "white",
            "linecolor": "white",
            "ticks": ""
           },
           "bgcolor": "#E5ECF6",
           "caxis": {
            "gridcolor": "white",
            "linecolor": "white",
            "ticks": ""
           }
          },
          "title": {
           "x": 0.05
          },
          "xaxis": {
           "automargin": true,
           "gridcolor": "white",
           "linecolor": "white",
           "ticks": "",
           "title": {
            "standoff": 15
           },
           "zerolinecolor": "white",
           "zerolinewidth": 2
          },
          "yaxis": {
           "automargin": true,
           "gridcolor": "white",
           "linecolor": "white",
           "ticks": "",
           "title": {
            "standoff": 15
           },
           "zerolinecolor": "white",
           "zerolinewidth": 2
          }
         }
        },
        "title": {
         "text": "Insta Posts"
        },
        "width": 1200,
        "xaxis": {
         "anchor": "y",
         "autorange": true,
         "domain": [
          0,
          1
         ],
         "range": [
          "2020-02-15 05:58:43.1317",
          "2020-04-24 18:01:16.8683"
         ],
         "type": "date"
        },
        "xaxis2": {
         "anchor": "y2",
         "autorange": true,
         "domain": [
          0,
          1
         ],
         "range": [
          "2020-02-15 05:58:43.1317",
          "2020-04-24 18:01:16.8683"
         ],
         "type": "date"
        },
        "yaxis": {
         "anchor": "x",
         "autorange": true,
         "domain": [
          0.575,
          1
         ],
         "range": [
          0,
          246.33559853633037
         ],
         "rangemode": "tozero",
         "type": "linear"
        },
        "yaxis2": {
         "anchor": "x2",
         "autorange": true,
         "domain": [
          0,
          0.425
         ],
         "range": [
          0,
          2063.460533193936
         ],
         "rangemode": "tozero",
         "type": "linear"
        }
       }
      },
      "image/png": "[encoded data removed]",
      "text/html": [
       "<div>\n",
       "        \n",
       "        \n",
       "            <div id=\"ecfdf2f0-1e47-43b9-893a-fec726111679\" class=\"plotly-graph-div\" style=\"height:900px; width:1200px;\"></div>\n",
       "            <script type=\"text/javascript\">\n",
       "                require([\"plotly\"], function(Plotly) {\n",
       "                    window.PLOTLYENV=window.PLOTLYENV || {};\n",
       "                    \n",
       "                if (document.getElementById(\"ecfdf2f0-1e47-43b9-893a-fec726111679\")) {\n",
       "                    Plotly.newPlot(\n",
       "                        'ecfdf2f0-1e47-43b9-893a-fec726111679',\n",
       "                        [{\"hovertemplate\": \"%{x} <br>\\u0391\\u03bb\\u03bb\\u03b7\\u03bb\\u03b5\\u03c0\\u03af\\u03b4\\u03c1\\u03b1\\u03c3\\u03b1\\u03bd: %{y:.0}<br><br>%{text}\", \"line\": {\"dash\": \"dot\", \"width\": 1}, \"marker\": {\"color\": \"#449660\"}, \"mode\": \"lines+markers\", \"name\": \"\\u0391\\u03bb\\u03bb\\u03b7\\u03bb\\u03b5\\u03c0\\u03af\\u03b4\\u03c1\\u03b1\\u03c3\\u03b1\\u03bd\", \"text\": [\"\\u03a3\\u03c4\\u03b9\\u03c2<br>14 \\u03ba\\u03b1\\u03b9 15 \\u039c\\u03b1\\u03c1\\u03c4\\u03af\\u03bf\\u03c5 \\u03b5\\u03af\\u03bc\\u03b1\\u03c3\\u03c4\\u03b5<br>\\u03ad\\u03c4\\u03bf\\u03b9\\u03bc\\u03bf\\u03b9 \\u03bd\\u03b1 \\u03b2\\u03c1\\u03b5\\u03b8\\u03bf\\u03cd\\u03bc\\u03b5 \\u03b1\\u03c0\\u03cc \\u03ba\\u03bf\\u03bd\\u03c4\\u03ac,<br>\\u03bd\\u03b1 \\u03bc\\u03bf\\u03b9\\u03c1\\u03b1\", \"\\u0388\\u03c6\\u03c4\\u03b1\\u03c3\\u03b5<br>\\u03b7 \\u03c3\\u03c4\\u03b9\\u03b3\\u03bc\\u03ae \\u03bd\\u03b1 \\u03bc\\u03bf\\u03b9\\u03c1\\u03b1\\u03c3\\u03c4\\u03bf\\u03cd\\u03bc\\u03b5<br>\\u03bc\\u03b1\\u03b6\\u03af \\u03c3\\u03b1\\u03c2 \\u03c4\\u03bf \\u03c0\\u03c1\\u03ce\\u03c4\\u03bf \\u03c3\\u03b7\\u03bc\\u03b1\\u03bd\\u03c4\\u03b9\\u03ba\\u03cc \\u03c3\\u03c4\\u03bf\\u03b9\\u03c7\\u03b5\\u03af\\u03bf<br>\\u03b3\\u03b9\", \"\\u03a4\\u03bf<br>\\u03b4\\u03b5\\u03cd\\u03c4\\u03b5\\u03c1\\u03bf \\u03c3\\u03b7\\u03bc\\u03b1\\u03bd\\u03c4\\u03b9\\u03ba\\u03cc \\u03c3\\u03c4\\u03bf\\u03b9\\u03c7\\u03b5\\u03af\\u03bf \\u03b3\\u03b9\\u03b1<br>\\u03c4\\u03b7\\u03bd \\u03a0\\u03b1\\u03bd\\u03b5\\u03bb\\u03bb\\u03b1\\u03b4\\u03b9\\u03ba\\u03ae \\u03a3\\u03c5\\u03bd\\u03ac\\u03bd\\u03c4\\u03b7\\u03c3\\u03b7 \\u03c4\\u03bf\\u03c5<br>Let's \", \"\\u03a4\\u03bf<br>\\u03c4\\u03c1\\u03af\\u03c4\\u03bf \\u03ba\\u03b1\\u03b9 \\u03c4\\u03b5\\u03bb\\u03b5\\u03c5\\u03c4\\u03b1\\u03af\\u03bf \\u03c3\\u03b7\\u03bc\\u03b1\\u03bd\\u03c4\\u03b9\\u03ba\\u03cc<br>\\u03c3\\u03c4\\u03bf\\u03b9\\u03c7\\u03b5\\u03af\\u03bf \\u03b3\\u03b9\\u03b1 \\u03c4\\u03b7\\u03bd \\u03a0\\u03b1\\u03bd\\u03b5\\u03bb\\u03bb\\u03b1\\u03b4\\u03b9\\u03ba\\u03ae<br>\\u03a3\\u03c5\\u03bd\\u03ac\\u03bd\\u03c4\\u03b7\\u03c3\", \"\\u0391\\u03b3\\u03b1\\u03c0\\u03b7\\u03bc\\u03ad\\u03bd\\u03b7<br>\\u03bc\\u03b1\\u03c2 \\u03bf\\u03b9\\u03ba\\u03bf\\u03b3\\u03ad\\u03bd\\u03b5\\u03b9\\u03b1, \\n\\u03c0\\u03ac\\u03bd\\u03c9<br>\\u03b1\\u03c0'\\u03cc\\u03bb\\u03b1 \\u03b8\\u03ad\\u03bb\\u03bf\\u03c5\\u03bc\\u03b5 \\u03bd\\u03b1 \\u03b5\\u03af\\u03bc\\u03b1\\u03c3\\u03c4\\u03b5 \\u03cc\\u03bb\\u03bf\\u03b9<br>\\u03c5\\u03b3\\u03b9\\u03b5\\u03af\\u03c2 \", \"\\u0391\\u03b3\\u03b1\\u03c0\\u03b7\\u03bc\\u03ad\\u03bd\\u03b7<br>\\u03bc\\u03b1\\u03c2 \\u03bf\\u03b9\\u03ba\\u03bf\\u03b3\\u03ad\\u03bd\\u03b5\\u03b9\\u03b1,\\n\\u0391\\u03c5\\u03c4\\u03ad\\u03c2<br>\\u03c4\\u03b9\\u03c2 \\u03bc\\u03ad\\u03c1\\u03b5\\u03c2 #\\u03bc\\u03ad\\u03bd\\u03bf\\u03c5\\u03bc\\u03b5_\\u03c3\\u03c0\\u03af\\u03c4\\u03b9 \\u03ba\\u03b1\\u03b9<br>\\u03c3\\u03b1\\u03c2 \\u03c3\\u03c4\\u03ad\\u03bb\\u03bd\", \"\\u039f<br>\\u03b5\\u03b8\\u03b5\\u03bb\\u03bf\\u03bd\\u03c4\\u03b9\\u03c3\\u03bc\\u03cc\\u03c2 \\u03c0\\u03ac\\u03bd\\u03c4\\u03b1 \\u03b5\\u03af\\u03c7\\u03b5 \\u03b1\\u03be\\u03af\\u03b1<br>\\u03b1\\u03bd\\u03b5\\u03ba\\u03c4\\u03af\\u03bc\\u03b7\\u03c4\\u03b7 \\u03c4\\u03cc\\u03c3\\u03bf \\u03b1\\u03c4\\u03bf\\u03bc\\u03b9\\u03ba\\u03ae \\u03cc\\u03c3\\u03bf \\u03ba\\u03b1\\u03b9<br>\\u03c3\\u03c5\\u03bb\\u03bb\\u03bf\\u03b3\\u03b9\", \"#\\u039c\\u03ad\\u03bd\\u03bf\\u03c5\\u03bc\\u03b5_\\u03c3\\u03c0\\u03af\\u03c4\\u03b9<br>\\u03ba\\u03b1\\u03b9 \\u03bc\\u03ad\\u03c3\\u03b1 \\u03b1\\u03c0\\u03cc \\u03c4\\u03bf<br>\\u03c3\\u03ba\\u03bf\\u03c4\\u03ac\\u03b4\\u03b9 \\u03b1\\u03c6\\u03ae\\u03bd\\u03bf\\u03c5\\u03bc\\u03b5 \\u03c4\\u03b1 \\u03b1\\u03c3\\u03c4\\u03ad\\u03c1\\u03b9\\u03b1 \\u03bd\\u03b1<br>\\u03bc\\u03b1\\u03c2 \\u03c7\\u03b1\\u03c1\\u03af\", \"\\u038c\\u03c4\\u03b1\\u03bd<br>\\u03ad\\u03c7\\u03b5\\u03b9\\u03c2 \\u03b4\\u03af\\u03c0\\u03bb\\u03b1 \\u03c3\\u03bf\\u03c5 \\u03bc\\u03af\\u03b1 \\u03bf\\u03bc\\u03ac\\u03b4\\u03b1,<br>\\u03bc\\u03af\\u03b1 \\u03bf\\u03b9\\u03ba\\u03bf\\u03b3\\u03ad\\u03bd\\u03b5\\u03b9\\u03b1 \\u03c4\\u03af\\u03c0\\u03bf\\u03c4\\u03b1 \\u03b4\\u03b5\\u03bd \\u03c3\\u03b5<br>\\u03c6\\u03bf\\u03b2\\u03af\\u03b6\\u03b5\\u03b9!!\", \"\\u0391\\u03b3\\u03b1\\u03c0\\u03b7\\u03bc\\u03ad\\u03bd\\u03b7<br>\\u03bc\\u03b1\\u03c2 \\u039f\\u03b9\\u03ba\\u03bf\\u03b3\\u03ad\\u03bd\\u03b5\\u03b9\\u03b1,\\n\\n\\u038c\\u03bb\\u03b5\\u03c2<br>\\u03b1\\u03c5\\u03c4\\u03ad\\u03c2 \\u03c4\\u03b9\\u03c2 \\u03bc\\u03ad\\u03c1\\u03b5\\u03c2, \\u03b7 \\u03c3\\u03ba\\u03ad\\u03c8\\u03b7 \\u03bc\\u03b1\\u03c2,<br>\\u03b7 \\u03ba\\u03b1\\u03c1\\u03b4\\u03b9\\u03ac\"], \"type\": \"scatter\", \"x\": [\"2020-02-19\", \"2020-02-21\", \"2020-02-24\", \"2020-02-25\", \"2020-03-03\", \"2020-03-17\", \"2020-03-23\", \"2020-03-28\", \"2020-04-02\", \"2020-04-21\"], \"xaxis\": \"x\", \"y\": [113, 167, 88, 122, 145, 139, 120, 126, 223, 231], \"yaxis\": \"y\"}, {\"hovertemplate\": \"%{x} <br>\\u0395\\u03af\\u03b4\\u03b1\\u03bd \\u03c4\\u03bf post: %{y:.0}<br><br>%{text}\", \"line\": {\"dash\": \"dot\", \"width\": 1}, \"marker\": {\"color\": \"#3B8CCA\"}, \"mode\": \"lines+markers\", \"name\": \"\\u0395\\u03af\\u03b4\\u03b1\\u03bd \\u03c4\\u03bf post\", \"text\": [\"\\u03a3\\u03c4\\u03b9\\u03c2<br>14 \\u03ba\\u03b1\\u03b9 15 \\u039c\\u03b1\\u03c1\\u03c4\\u03af\\u03bf\\u03c5 \\u03b5\\u03af\\u03bc\\u03b1\\u03c3\\u03c4\\u03b5<br>\\u03ad\\u03c4\\u03bf\\u03b9\\u03bc\\u03bf\\u03b9 \\u03bd\\u03b1 \\u03b2\\u03c1\\u03b5\\u03b8\\u03bf\\u03cd\\u03bc\\u03b5 \\u03b1\\u03c0\\u03cc \\u03ba\\u03bf\\u03bd\\u03c4\\u03ac,<br>\\u03bd\\u03b1 \\u03bc\\u03bf\\u03b9\\u03c1\\u03b1\", \"\\u0388\\u03c6\\u03c4\\u03b1\\u03c3\\u03b5<br>\\u03b7 \\u03c3\\u03c4\\u03b9\\u03b3\\u03bc\\u03ae \\u03bd\\u03b1 \\u03bc\\u03bf\\u03b9\\u03c1\\u03b1\\u03c3\\u03c4\\u03bf\\u03cd\\u03bc\\u03b5<br>\\u03bc\\u03b1\\u03b6\\u03af \\u03c3\\u03b1\\u03c2 \\u03c4\\u03bf \\u03c0\\u03c1\\u03ce\\u03c4\\u03bf \\u03c3\\u03b7\\u03bc\\u03b1\\u03bd\\u03c4\\u03b9\\u03ba\\u03cc \\u03c3\\u03c4\\u03bf\\u03b9\\u03c7\\u03b5\\u03af\\u03bf<br>\\u03b3\\u03b9\", \"\\u03a4\\u03bf<br>\\u03b4\\u03b5\\u03cd\\u03c4\\u03b5\\u03c1\\u03bf \\u03c3\\u03b7\\u03bc\\u03b1\\u03bd\\u03c4\\u03b9\\u03ba\\u03cc \\u03c3\\u03c4\\u03bf\\u03b9\\u03c7\\u03b5\\u03af\\u03bf \\u03b3\\u03b9\\u03b1<br>\\u03c4\\u03b7\\u03bd \\u03a0\\u03b1\\u03bd\\u03b5\\u03bb\\u03bb\\u03b1\\u03b4\\u03b9\\u03ba\\u03ae \\u03a3\\u03c5\\u03bd\\u03ac\\u03bd\\u03c4\\u03b7\\u03c3\\u03b7 \\u03c4\\u03bf\\u03c5<br>Let's \", \"\\u03a4\\u03bf<br>\\u03c4\\u03c1\\u03af\\u03c4\\u03bf \\u03ba\\u03b1\\u03b9 \\u03c4\\u03b5\\u03bb\\u03b5\\u03c5\\u03c4\\u03b1\\u03af\\u03bf \\u03c3\\u03b7\\u03bc\\u03b1\\u03bd\\u03c4\\u03b9\\u03ba\\u03cc<br>\\u03c3\\u03c4\\u03bf\\u03b9\\u03c7\\u03b5\\u03af\\u03bf \\u03b3\\u03b9\\u03b1 \\u03c4\\u03b7\\u03bd \\u03a0\\u03b1\\u03bd\\u03b5\\u03bb\\u03bb\\u03b1\\u03b4\\u03b9\\u03ba\\u03ae<br>\\u03a3\\u03c5\\u03bd\\u03ac\\u03bd\\u03c4\\u03b7\\u03c3\", \"\\u0391\\u03b3\\u03b1\\u03c0\\u03b7\\u03bc\\u03ad\\u03bd\\u03b7<br>\\u03bc\\u03b1\\u03c2 \\u03bf\\u03b9\\u03ba\\u03bf\\u03b3\\u03ad\\u03bd\\u03b5\\u03b9\\u03b1, \\n\\u03c0\\u03ac\\u03bd\\u03c9<br>\\u03b1\\u03c0'\\u03cc\\u03bb\\u03b1 \\u03b8\\u03ad\\u03bb\\u03bf\\u03c5\\u03bc\\u03b5 \\u03bd\\u03b1 \\u03b5\\u03af\\u03bc\\u03b1\\u03c3\\u03c4\\u03b5 \\u03cc\\u03bb\\u03bf\\u03b9<br>\\u03c5\\u03b3\\u03b9\\u03b5\\u03af\\u03c2 \", \"\\u0391\\u03b3\\u03b1\\u03c0\\u03b7\\u03bc\\u03ad\\u03bd\\u03b7<br>\\u03bc\\u03b1\\u03c2 \\u03bf\\u03b9\\u03ba\\u03bf\\u03b3\\u03ad\\u03bd\\u03b5\\u03b9\\u03b1,\\n\\u0391\\u03c5\\u03c4\\u03ad\\u03c2<br>\\u03c4\\u03b9\\u03c2 \\u03bc\\u03ad\\u03c1\\u03b5\\u03c2 #\\u03bc\\u03ad\\u03bd\\u03bf\\u03c5\\u03bc\\u03b5_\\u03c3\\u03c0\\u03af\\u03c4\\u03b9 \\u03ba\\u03b1\\u03b9<br>\\u03c3\\u03b1\\u03c2 \\u03c3\\u03c4\\u03ad\\u03bb\\u03bd\", \"\\u039f<br>\\u03b5\\u03b8\\u03b5\\u03bb\\u03bf\\u03bd\\u03c4\\u03b9\\u03c3\\u03bc\\u03cc\\u03c2 \\u03c0\\u03ac\\u03bd\\u03c4\\u03b1 \\u03b5\\u03af\\u03c7\\u03b5 \\u03b1\\u03be\\u03af\\u03b1<br>\\u03b1\\u03bd\\u03b5\\u03ba\\u03c4\\u03af\\u03bc\\u03b7\\u03c4\\u03b7 \\u03c4\\u03cc\\u03c3\\u03bf \\u03b1\\u03c4\\u03bf\\u03bc\\u03b9\\u03ba\\u03ae \\u03cc\\u03c3\\u03bf \\u03ba\\u03b1\\u03b9<br>\\u03c3\\u03c5\\u03bb\\u03bb\\u03bf\\u03b3\\u03b9\", \"#\\u039c\\u03ad\\u03bd\\u03bf\\u03c5\\u03bc\\u03b5_\\u03c3\\u03c0\\u03af\\u03c4\\u03b9<br>\\u03ba\\u03b1\\u03b9 \\u03bc\\u03ad\\u03c3\\u03b1 \\u03b1\\u03c0\\u03cc \\u03c4\\u03bf<br>\\u03c3\\u03ba\\u03bf\\u03c4\\u03ac\\u03b4\\u03b9 \\u03b1\\u03c6\\u03ae\\u03bd\\u03bf\\u03c5\\u03bc\\u03b5 \\u03c4\\u03b1 \\u03b1\\u03c3\\u03c4\\u03ad\\u03c1\\u03b9\\u03b1 \\u03bd\\u03b1<br>\\u03bc\\u03b1\\u03c2 \\u03c7\\u03b1\\u03c1\\u03af\", \"\\u038c\\u03c4\\u03b1\\u03bd<br>\\u03ad\\u03c7\\u03b5\\u03b9\\u03c2 \\u03b4\\u03af\\u03c0\\u03bb\\u03b1 \\u03c3\\u03bf\\u03c5 \\u03bc\\u03af\\u03b1 \\u03bf\\u03bc\\u03ac\\u03b4\\u03b1,<br>\\u03bc\\u03af\\u03b1 \\u03bf\\u03b9\\u03ba\\u03bf\\u03b3\\u03ad\\u03bd\\u03b5\\u03b9\\u03b1 \\u03c4\\u03af\\u03c0\\u03bf\\u03c4\\u03b1 \\u03b4\\u03b5\\u03bd \\u03c3\\u03b5<br>\\u03c6\\u03bf\\u03b2\\u03af\\u03b6\\u03b5\\u03b9!!\", \"\\u0391\\u03b3\\u03b1\\u03c0\\u03b7\\u03bc\\u03ad\\u03bd\\u03b7<br>\\u03bc\\u03b1\\u03c2 \\u039f\\u03b9\\u03ba\\u03bf\\u03b3\\u03ad\\u03bd\\u03b5\\u03b9\\u03b1,\\n\\n\\u038c\\u03bb\\u03b5\\u03c2<br>\\u03b1\\u03c5\\u03c4\\u03ad\\u03c2 \\u03c4\\u03b9\\u03c2 \\u03bc\\u03ad\\u03c1\\u03b5\\u03c2, \\u03b7 \\u03c3\\u03ba\\u03ad\\u03c8\\u03b7 \\u03bc\\u03b1\\u03c2,<br>\\u03b7 \\u03ba\\u03b1\\u03c1\\u03b4\\u03b9\\u03ac\"], \"type\": \"scatter\", \"x\": [\"2020-02-19\", \"2020-02-21\", \"2020-02-24\", \"2020-02-25\", \"2020-03-03\", \"2020-03-17\", \"2020-03-23\", \"2020-03-28\", \"2020-04-02\", \"2020-04-21\"], \"xaxis\": \"x2\", \"y\": [1460, 1528, 1134, 1343, 1664, 1288, 1440, 1404, 1935, 1867], \"yaxis\": \"y2\"}],\n",
       "                        {\"height\": 900, \"paper_bgcolor\": \"rgba(0,0,0,0)\", \"plot_bgcolor\": \"rgba(0,0,0,0)\", \"template\": {\"data\": {\"bar\": [{\"error_x\": {\"color\": \"#2a3f5f\"}, \"error_y\": {\"color\": \"#2a3f5f\"}, \"marker\": {\"line\": {\"color\": \"#E5ECF6\", \"width\": 0.5}}, \"type\": \"bar\"}], \"barpolar\": [{\"marker\": {\"line\": {\"color\": \"#E5ECF6\", \"width\": 0.5}}, \"type\": \"barpolar\"}], \"carpet\": [{\"aaxis\": {\"endlinecolor\": \"#2a3f5f\", \"gridcolor\": \"white\", \"linecolor\": \"white\", \"minorgridcolor\": \"white\", \"startlinecolor\": \"#2a3f5f\"}, \"baxis\": {\"endlinecolor\": \"#2a3f5f\", \"gridcolor\": \"white\", \"linecolor\": \"white\", \"minorgridcolor\": \"white\", \"startlinecolor\": \"#2a3f5f\"}, \"type\": \"carpet\"}], \"choropleth\": [{\"colorbar\": {\"outlinewidth\": 0, \"ticks\": \"\"}, \"type\": \"choropleth\"}], \"contour\": [{\"colorbar\": {\"outlinewidth\": 0, \"ticks\": \"\"}, \"colorscale\": [[0.0, \"#0d0887\"], [0.1111111111111111, \"#46039f\"], [0.2222222222222222, \"#7201a8\"], [0.3333333333333333, \"#9c179e\"], [0.4444444444444444, \"#bd3786\"], [0.5555555555555556, \"#d8576b\"], [0.6666666666666666, \"#ed7953\"], [0.7777777777777778, \"#fb9f3a\"], [0.8888888888888888, \"#fdca26\"], [1.0, \"#f0f921\"]], \"type\": \"contour\"}], \"contourcarpet\": [{\"colorbar\": {\"outlinewidth\": 0, \"ticks\": \"\"}, \"type\": \"contourcarpet\"}], \"heatmap\": [{\"colorbar\": {\"outlinewidth\": 0, \"ticks\": \"\"}, \"colorscale\": [[0.0, \"#0d0887\"], [0.1111111111111111, \"#46039f\"], [0.2222222222222222, \"#7201a8\"], [0.3333333333333333, \"#9c179e\"], [0.4444444444444444, \"#bd3786\"], [0.5555555555555556, \"#d8576b\"], [0.6666666666666666, \"#ed7953\"], [0.7777777777777778, \"#fb9f3a\"], [0.8888888888888888, \"#fdca26\"], [1.0, \"#f0f921\"]], \"type\": \"heatmap\"}], \"heatmapgl\": [{\"colorbar\": {\"outlinewidth\": 0, \"ticks\": \"\"}, \"colorscale\": [[0.0, \"#0d0887\"], [0.1111111111111111, \"#46039f\"], [0.2222222222222222, \"#7201a8\"], [0.3333333333333333, \"#9c179e\"], [0.4444444444444444, \"#bd3786\"], [0.5555555555555556, \"#d8576b\"], [0.6666666666666666, \"#ed7953\"], [0.7777777777777778, \"#fb9f3a\"], [0.8888888888888888, \"#fdca26\"], [1.0, \"#f0f921\"]], \"type\": \"heatmapgl\"}], \"histogram\": [{\"marker\": {\"colorbar\": {\"outlinewidth\": 0, \"ticks\": \"\"}}, \"type\": \"histogram\"}], \"histogram2d\": [{\"colorbar\": {\"outlinewidth\": 0, \"ticks\": \"\"}, \"colorscale\": [[0.0, \"#0d0887\"], [0.1111111111111111, \"#46039f\"], [0.2222222222222222, \"#7201a8\"], [0.3333333333333333, \"#9c179e\"], [0.4444444444444444, \"#bd3786\"], [0.5555555555555556, \"#d8576b\"], [0.6666666666666666, \"#ed7953\"], [0.7777777777777778, \"#fb9f3a\"], [0.8888888888888888, \"#fdca26\"], [1.0, \"#f0f921\"]], \"type\": \"histogram2d\"}], \"histogram2dcontour\": [{\"colorbar\": {\"outlinewidth\": 0, \"ticks\": \"\"}, \"colorscale\": [[0.0, \"#0d0887\"], [0.1111111111111111, \"#46039f\"], [0.2222222222222222, \"#7201a8\"], [0.3333333333333333, \"#9c179e\"], [0.4444444444444444, \"#bd3786\"], [0.5555555555555556, \"#d8576b\"], [0.6666666666666666, \"#ed7953\"], [0.7777777777777778, \"#fb9f3a\"], [0.8888888888888888, \"#fdca26\"], [1.0, \"#f0f921\"]], \"type\": \"histogram2dcontour\"}], \"mesh3d\": [{\"colorbar\": {\"outlinewidth\": 0, \"ticks\": \"\"}, \"type\": \"mesh3d\"}], \"parcoords\": [{\"line\": {\"colorbar\": {\"outlinewidth\": 0, \"ticks\": \"\"}}, \"type\": \"parcoords\"}], \"pie\": [{\"automargin\": true, \"type\": \"pie\"}], \"scatter\": [{\"marker\": {\"colorbar\": {\"outlinewidth\": 0, \"ticks\": \"\"}}, \"type\": \"scatter\"}], \"scatter3d\": [{\"line\": {\"colorbar\": {\"outlinewidth\": 0, \"ticks\": \"\"}}, \"marker\": {\"colorbar\": {\"outlinewidth\": 0, \"ticks\": \"\"}}, \"type\": \"scatter3d\"}], \"scattercarpet\": [{\"marker\": {\"colorbar\": {\"outlinewidth\": 0, \"ticks\": \"\"}}, \"type\": \"scattercarpet\"}], \"scattergeo\": [{\"marker\": {\"colorbar\": {\"outlinewidth\": 0, \"ticks\": \"\"}}, \"type\": \"scattergeo\"}], \"scattergl\": [{\"marker\": {\"colorbar\": {\"outlinewidth\": 0, \"ticks\": \"\"}}, \"type\": \"scattergl\"}], \"scattermapbox\": [{\"marker\": {\"colorbar\": {\"outlinewidth\": 0, \"ticks\": \"\"}}, \"type\": \"scattermapbox\"}], \"scatterpolar\": [{\"marker\": {\"colorbar\": {\"outlinewidth\": 0, \"ticks\": \"\"}}, \"type\": \"scatterpolar\"}], \"scatterpolargl\": [{\"marker\": {\"colorbar\": {\"outlinewidth\": 0, \"ticks\": \"\"}}, \"type\": \"scatterpolargl\"}], \"scatterternary\": [{\"marker\": {\"colorbar\": {\"outlinewidth\": 0, \"ticks\": \"\"}}, \"type\": \"scatterternary\"}], \"surface\": [{\"colorbar\": {\"outlinewidth\": 0, \"ticks\": \"\"}, \"colorscale\": [[0.0, \"#0d0887\"], [0.1111111111111111, \"#46039f\"], [0.2222222222222222, \"#7201a8\"], [0.3333333333333333, \"#9c179e\"], [0.4444444444444444, \"#bd3786\"], [0.5555555555555556, \"#d8576b\"], [0.6666666666666666, \"#ed7953\"], [0.7777777777777778, \"#fb9f3a\"], [0.8888888888888888, \"#fdca26\"], [1.0, \"#f0f921\"]], \"type\": \"surface\"}], \"table\": [{\"cells\": {\"fill\": {\"color\": \"#EBF0F8\"}, \"line\": {\"color\": \"white\"}}, \"header\": {\"fill\": {\"color\": \"#C8D4E3\"}, \"line\": {\"color\": \"white\"}}, \"type\": \"table\"}]}, \"layout\": {\"annotationdefaults\": {\"arrowcolor\": \"#2a3f5f\", \"arrowhead\": 0, \"arrowwidth\": 1}, \"coloraxis\": {\"colorbar\": {\"outlinewidth\": 0, \"ticks\": \"\"}}, \"colorscale\": {\"diverging\": [[0, \"#8e0152\"], [0.1, \"#c51b7d\"], [0.2, \"#de77ae\"], [0.3, \"#f1b6da\"], [0.4, \"#fde0ef\"], [0.5, \"#f7f7f7\"], [0.6, \"#e6f5d0\"], [0.7, \"#b8e186\"], [0.8, \"#7fbc41\"], [0.9, \"#4d9221\"], [1, \"#276419\"]], \"sequential\": [[0.0, \"#0d0887\"], [0.1111111111111111, \"#46039f\"], [0.2222222222222222, \"#7201a8\"], [0.3333333333333333, \"#9c179e\"], [0.4444444444444444, \"#bd3786\"], [0.5555555555555556, \"#d8576b\"], [0.6666666666666666, \"#ed7953\"], [0.7777777777777778, \"#fb9f3a\"], [0.8888888888888888, \"#fdca26\"], [1.0, \"#f0f921\"]], \"sequentialminus\": [[0.0, \"#0d0887\"], [0.1111111111111111, \"#46039f\"], [0.2222222222222222, \"#7201a8\"], [0.3333333333333333, \"#9c179e\"], [0.4444444444444444, \"#bd3786\"], [0.5555555555555556, \"#d8576b\"], [0.6666666666666666, \"#ed7953\"], [0.7777777777777778, \"#fb9f3a\"], [0.8888888888888888, \"#fdca26\"], [1.0, \"#f0f921\"]]}, \"colorway\": [\"#636efa\", \"#EF553B\", \"#00cc96\", \"#ab63fa\", \"#FFA15A\", \"#19d3f3\", \"#FF6692\", \"#B6E880\", \"#FF97FF\", \"#FECB52\"], \"font\": {\"color\": \"#2a3f5f\"}, \"geo\": {\"bgcolor\": \"white\", \"lakecolor\": \"white\", \"landcolor\": \"#E5ECF6\", \"showlakes\": true, \"showland\": true, \"subunitcolor\": \"white\"}, \"hoverlabel\": {\"align\": \"left\"}, \"hovermode\": \"closest\", \"mapbox\": {\"style\": \"light\"}, \"paper_bgcolor\": \"white\", \"plot_bgcolor\": \"#E5ECF6\", \"polar\": {\"angularaxis\": {\"gridcolor\": \"white\", \"linecolor\": \"white\", \"ticks\": \"\"}, \"bgcolor\": \"#E5ECF6\", \"radialaxis\": {\"gridcolor\": \"white\", \"linecolor\": \"white\", \"ticks\": \"\"}}, \"scene\": {\"xaxis\": {\"backgroundcolor\": \"#E5ECF6\", \"gridcolor\": \"white\", \"gridwidth\": 2, \"linecolor\": \"white\", \"showbackground\": true, \"ticks\": \"\", \"zerolinecolor\": \"white\"}, \"yaxis\": {\"backgroundcolor\": \"#E5ECF6\", \"gridcolor\": \"white\", \"gridwidth\": 2, \"linecolor\": \"white\", \"showbackground\": true, \"ticks\": \"\", \"zerolinecolor\": \"white\"}, \"zaxis\": {\"backgroundcolor\": \"#E5ECF6\", \"gridcolor\": \"white\", \"gridwidth\": 2, \"linecolor\": \"white\", \"showbackground\": true, \"ticks\": \"\", \"zerolinecolor\": \"white\"}}, \"shapedefaults\": {\"line\": {\"color\": \"#2a3f5f\"}}, \"ternary\": {\"aaxis\": {\"gridcolor\": \"white\", \"linecolor\": \"white\", \"ticks\": \"\"}, \"baxis\": {\"gridcolor\": \"white\", \"linecolor\": \"white\", \"ticks\": \"\"}, \"bgcolor\": \"#E5ECF6\", \"caxis\": {\"gridcolor\": \"white\", \"linecolor\": \"white\", \"ticks\": \"\"}}, \"title\": {\"x\": 0.05}, \"xaxis\": {\"automargin\": true, \"gridcolor\": \"white\", \"linecolor\": \"white\", \"ticks\": \"\", \"title\": {\"standoff\": 15}, \"zerolinecolor\": \"white\", \"zerolinewidth\": 2}, \"yaxis\": {\"automargin\": true, \"gridcolor\": \"white\", \"linecolor\": \"white\", \"ticks\": \"\", \"title\": {\"standoff\": 15}, \"zerolinecolor\": \"white\", \"zerolinewidth\": 2}}}, \"title\": {\"text\": \"Insta Posts\"}, \"width\": 1200, \"xaxis\": {\"anchor\": \"y\", \"domain\": [0.0, 1.0]}, \"xaxis2\": {\"anchor\": \"y2\", \"domain\": [0.0, 1.0]}, \"yaxis\": {\"anchor\": \"x\", \"domain\": [0.575, 1.0], \"rangemode\": \"tozero\"}, \"yaxis2\": {\"anchor\": \"x2\", \"domain\": [0.0, 0.425], \"rangemode\": \"tozero\"}},\n",
       "                        {\"responsive\": true}\n",
       "                    ).then(function(){\n",
       "                            \n",
       "var gd = document.getElementById('ecfdf2f0-1e47-43b9-893a-fec726111679');\n",
       "var x = new MutationObserver(function (mutations, observer) {{\n",
       "        var display = window.getComputedStyle(gd).display;\n",
       "        if (!display || display === 'none') {{\n",
       "            console.log([gd, 'removed!']);\n",
       "            Plotly.purge(gd);\n",
       "            observer.disconnect();\n",
       "        }}\n",
       "}});\n",
       "\n",
       "// Listen for the removal of the full notebook cells\n",
       "var notebookContainer = gd.closest('#notebook-container');\n",
       "if (notebookContainer) {{\n",
       "    x.observe(notebookContainer, {childList: true});\n",
       "}}\n",
       "\n",
       "// Listen for the clearing of the current output cell\n",
       "var outputEl = gd.closest('.output');\n",
       "if (outputEl) {{\n",
       "    x.observe(outputEl, {childList: true});\n",
       "}}\n",
       "\n",
       "                        })\n",
       "                };\n",
       "                });\n",
       "            </script>\n",
       "        </div>"
      ]
     },
     "metadata": {},
     "output_type": "display_data"
    }
   ],
   "source": [
    "fig = make_subplots(2,1)\n",
    "\n",
    "_=fig.add_trace(go.Scatter(x=posts.timestamp, y=posts.engagement,text = posts['caption split'],marker_color = colors['green_dark'],\n",
    "                          hovertemplate = '%{x} <br>Αλληλεπίδρασαν: %{y:.0}<br><br>%{text}',\n",
    "                           name='Αλληλεπίδρασαν', mode='lines+markers',line = linestyle),\n",
    "                row=1,col=1)\n",
    "\n",
    "_=fig.add_trace(go.Scatter(x=posts.timestamp, y=posts.reach,text = posts['caption split'],marker_color = colors['blue'],\n",
    "                          hovertemplate = '%{x} <br>Είδαν το post: %{y:.0}<br><br>%{text}',\n",
    "                          name='Είδαν το post', mode='lines+markers',line = linestyle),\n",
    "                row=2,col=1)\n",
    "\n",
    "_=fig.update_yaxes(rangemode='tozero')\n",
    "fig.update_layout(height=900, width=1200, \n",
    "                  title_text=\"Insta Posts\",\n",
    "                  paper_bgcolor='rgba(0,0,0,0)',\n",
    "                plot_bgcolor='rgba(0,0,0,0)')\n",
    "\n",
    "\n",
    "\n",
    "# fig.write_html(\"outputs/posts.html\")"
   ]
  },
  {
   "cell_type": "markdown",
   "metadata": {},
   "source": [
    "# Followers"
   ]
  },
  {
   "cell_type": "code",
   "execution_count": 72,
   "metadata": {},
   "outputs": [
    {
     "data": {
      "application/vnd.plotly.v1+json": {
       "config": {
        "plotlyServerURL": "https://plot.ly"
       },
       "data": [
        {
         "hovertemplate": "%{x} <br>Followers: %{y:.0}<br>",
         "line": {
          "dash": "dot",
          "width": 1
         },
         "marker": {
          "color": "#449660"
         },
         "mode": "lines+markers",
         "name": "Followers",
         "type": "scatter",
         "x": [
          "2020-06-14",
          "2020-06-15",
          "2020-06-16",
          "2020-06-17",
          "2020-06-18",
          "2020-06-19",
          "2020-06-21",
          "2020-06-22",
          "2020-06-23",
          "2020-06-24"
         ],
         "xaxis": "x",
         "y": [
          4359,
          4365,
          4365,
          4365,
          4367,
          4367,
          4375,
          4375,
          4379,
          4385
         ],
         "yaxis": "y"
        }
       ],
       "layout": {
        "height": 400,
        "paper_bgcolor": "rgba(0, 0, 0, 0)",
        "plot_bgcolor": "rgba(0, 0, 0, 0)",
        "template": {
         "data": {
          "bar": [
           {
            "error_x": {
             "color": "#2a3f5f"
            },
            "error_y": {
             "color": "#2a3f5f"
            },
            "marker": {
             "line": {
              "color": "#E5ECF6",
              "width": 0.5
             }
            },
            "type": "bar"
           }
          ],
          "barpolar": [
           {
            "marker": {
             "line": {
              "color": "#E5ECF6",
              "width": 0.5
             }
            },
            "type": "barpolar"
           }
          ],
          "carpet": [
           {
            "aaxis": {
             "endlinecolor": "#2a3f5f",
             "gridcolor": "white",
             "linecolor": "white",
             "minorgridcolor": "white",
             "startlinecolor": "#2a3f5f"
            },
            "baxis": {
             "endlinecolor": "#2a3f5f",
             "gridcolor": "white",
             "linecolor": "white",
             "minorgridcolor": "white",
             "startlinecolor": "#2a3f5f"
            },
            "type": "carpet"
           }
          ],
          "choropleth": [
           {
            "colorbar": {
             "outlinewidth": 0,
             "ticks": ""
            },
            "type": "choropleth"
           }
          ],
          "contour": [
           {
            "colorbar": {
             "outlinewidth": 0,
             "ticks": ""
            },
            "colorscale": [
             [
              0,
              "#0d0887"
             ],
             [
              0.1111111111111111,
              "#46039f"
             ],
             [
              0.2222222222222222,
              "#7201a8"
             ],
             [
              0.3333333333333333,
              "#9c179e"
             ],
             [
              0.4444444444444444,
              "#bd3786"
             ],
             [
              0.5555555555555556,
              "#d8576b"
             ],
             [
              0.6666666666666666,
              "#ed7953"
             ],
             [
              0.7777777777777778,
              "#fb9f3a"
             ],
             [
              0.8888888888888888,
              "#fdca26"
             ],
             [
              1,
              "#f0f921"
             ]
            ],
            "type": "contour"
           }
          ],
          "contourcarpet": [
           {
            "colorbar": {
             "outlinewidth": 0,
             "ticks": ""
            },
            "type": "contourcarpet"
           }
          ],
          "heatmap": [
           {
            "colorbar": {
             "outlinewidth": 0,
             "ticks": ""
            },
            "colorscale": [
             [
              0,
              "#0d0887"
             ],
             [
              0.1111111111111111,
              "#46039f"
             ],
             [
              0.2222222222222222,
              "#7201a8"
             ],
             [
              0.3333333333333333,
              "#9c179e"
             ],
             [
              0.4444444444444444,
              "#bd3786"
             ],
             [
              0.5555555555555556,
              "#d8576b"
             ],
             [
              0.6666666666666666,
              "#ed7953"
             ],
             [
              0.7777777777777778,
              "#fb9f3a"
             ],
             [
              0.8888888888888888,
              "#fdca26"
             ],
             [
              1,
              "#f0f921"
             ]
            ],
            "type": "heatmap"
           }
          ],
          "heatmapgl": [
           {
            "colorbar": {
             "outlinewidth": 0,
             "ticks": ""
            },
            "colorscale": [
             [
              0,
              "#0d0887"
             ],
             [
              0.1111111111111111,
              "#46039f"
             ],
             [
              0.2222222222222222,
              "#7201a8"
             ],
             [
              0.3333333333333333,
              "#9c179e"
             ],
             [
              0.4444444444444444,
              "#bd3786"
             ],
             [
              0.5555555555555556,
              "#d8576b"
             ],
             [
              0.6666666666666666,
              "#ed7953"
             ],
             [
              0.7777777777777778,
              "#fb9f3a"
             ],
             [
              0.8888888888888888,
              "#fdca26"
             ],
             [
              1,
              "#f0f921"
             ]
            ],
            "type": "heatmapgl"
           }
          ],
          "histogram": [
           {
            "marker": {
             "colorbar": {
              "outlinewidth": 0,
              "ticks": ""
             }
            },
            "type": "histogram"
           }
          ],
          "histogram2d": [
           {
            "colorbar": {
             "outlinewidth": 0,
             "ticks": ""
            },
            "colorscale": [
             [
              0,
              "#0d0887"
             ],
             [
              0.1111111111111111,
              "#46039f"
             ],
             [
              0.2222222222222222,
              "#7201a8"
             ],
             [
              0.3333333333333333,
              "#9c179e"
             ],
             [
              0.4444444444444444,
              "#bd3786"
             ],
             [
              0.5555555555555556,
              "#d8576b"
             ],
             [
              0.6666666666666666,
              "#ed7953"
             ],
             [
              0.7777777777777778,
              "#fb9f3a"
             ],
             [
              0.8888888888888888,
              "#fdca26"
             ],
             [
              1,
              "#f0f921"
             ]
            ],
            "type": "histogram2d"
           }
          ],
          "histogram2dcontour": [
           {
            "colorbar": {
             "outlinewidth": 0,
             "ticks": ""
            },
            "colorscale": [
             [
              0,
              "#0d0887"
             ],
             [
              0.1111111111111111,
              "#46039f"
             ],
             [
              0.2222222222222222,
              "#7201a8"
             ],
             [
              0.3333333333333333,
              "#9c179e"
             ],
             [
              0.4444444444444444,
              "#bd3786"
             ],
             [
              0.5555555555555556,
              "#d8576b"
             ],
             [
              0.6666666666666666,
              "#ed7953"
             ],
             [
              0.7777777777777778,
              "#fb9f3a"
             ],
             [
              0.8888888888888888,
              "#fdca26"
             ],
             [
              1,
              "#f0f921"
             ]
            ],
            "type": "histogram2dcontour"
           }
          ],
          "mesh3d": [
           {
            "colorbar": {
             "outlinewidth": 0,
             "ticks": ""
            },
            "type": "mesh3d"
           }
          ],
          "parcoords": [
           {
            "line": {
             "colorbar": {
              "outlinewidth": 0,
              "ticks": ""
             }
            },
            "type": "parcoords"
           }
          ],
          "pie": [
           {
            "automargin": true,
            "type": "pie"
           }
          ],
          "scatter": [
           {
            "marker": {
             "colorbar": {
              "outlinewidth": 0,
              "ticks": ""
             }
            },
            "type": "scatter"
           }
          ],
          "scatter3d": [
           {
            "line": {
             "colorbar": {
              "outlinewidth": 0,
              "ticks": ""
             }
            },
            "marker": {
             "colorbar": {
              "outlinewidth": 0,
              "ticks": ""
             }
            },
            "type": "scatter3d"
           }
          ],
          "scattercarpet": [
           {
            "marker": {
             "colorbar": {
              "outlinewidth": 0,
              "ticks": ""
             }
            },
            "type": "scattercarpet"
           }
          ],
          "scattergeo": [
           {
            "marker": {
             "colorbar": {
              "outlinewidth": 0,
              "ticks": ""
             }
            },
            "type": "scattergeo"
           }
          ],
          "scattergl": [
           {
            "marker": {
             "colorbar": {
              "outlinewidth": 0,
              "ticks": ""
             }
            },
            "type": "scattergl"
           }
          ],
          "scattermapbox": [
           {
            "marker": {
             "colorbar": {
              "outlinewidth": 0,
              "ticks": ""
             }
            },
            "type": "scattermapbox"
           }
          ],
          "scatterpolar": [
           {
            "marker": {
             "colorbar": {
              "outlinewidth": 0,
              "ticks": ""
             }
            },
            "type": "scatterpolar"
           }
          ],
          "scatterpolargl": [
           {
            "marker": {
             "colorbar": {
              "outlinewidth": 0,
              "ticks": ""
             }
            },
            "type": "scatterpolargl"
           }
          ],
          "scatterternary": [
           {
            "marker": {
             "colorbar": {
              "outlinewidth": 0,
              "ticks": ""
             }
            },
            "type": "scatterternary"
           }
          ],
          "surface": [
           {
            "colorbar": {
             "outlinewidth": 0,
             "ticks": ""
            },
            "colorscale": [
             [
              0,
              "#0d0887"
             ],
             [
              0.1111111111111111,
              "#46039f"
             ],
             [
              0.2222222222222222,
              "#7201a8"
             ],
             [
              0.3333333333333333,
              "#9c179e"
             ],
             [
              0.4444444444444444,
              "#bd3786"
             ],
             [
              0.5555555555555556,
              "#d8576b"
             ],
             [
              0.6666666666666666,
              "#ed7953"
             ],
             [
              0.7777777777777778,
              "#fb9f3a"
             ],
             [
              0.8888888888888888,
              "#fdca26"
             ],
             [
              1,
              "#f0f921"
             ]
            ],
            "type": "surface"
           }
          ],
          "table": [
           {
            "cells": {
             "fill": {
              "color": "#EBF0F8"
             },
             "line": {
              "color": "white"
             }
            },
            "header": {
             "fill": {
              "color": "#C8D4E3"
             },
             "line": {
              "color": "white"
             }
            },
            "type": "table"
           }
          ]
         },
         "layout": {
          "annotationdefaults": {
           "arrowcolor": "#2a3f5f",
           "arrowhead": 0,
           "arrowwidth": 1
          },
          "coloraxis": {
           "colorbar": {
            "outlinewidth": 0,
            "ticks": ""
           }
          },
          "colorscale": {
           "diverging": [
            [
             0,
             "#8e0152"
            ],
            [
             0.1,
             "#c51b7d"
            ],
            [
             0.2,
             "#de77ae"
            ],
            [
             0.3,
             "#f1b6da"
            ],
            [
             0.4,
             "#fde0ef"
            ],
            [
             0.5,
             "#f7f7f7"
            ],
            [
             0.6,
             "#e6f5d0"
            ],
            [
             0.7,
             "#b8e186"
            ],
            [
             0.8,
             "#7fbc41"
            ],
            [
             0.9,
             "#4d9221"
            ],
            [
             1,
             "#276419"
            ]
           ],
           "sequential": [
            [
             0,
             "#0d0887"
            ],
            [
             0.1111111111111111,
             "#46039f"
            ],
            [
             0.2222222222222222,
             "#7201a8"
            ],
            [
             0.3333333333333333,
             "#9c179e"
            ],
            [
             0.4444444444444444,
             "#bd3786"
            ],
            [
             0.5555555555555556,
             "#d8576b"
            ],
            [
             0.6666666666666666,
             "#ed7953"
            ],
            [
             0.7777777777777778,
             "#fb9f3a"
            ],
            [
             0.8888888888888888,
             "#fdca26"
            ],
            [
             1,
             "#f0f921"
            ]
           ],
           "sequentialminus": [
            [
             0,
             "#0d0887"
            ],
            [
             0.1111111111111111,
             "#46039f"
            ],
            [
             0.2222222222222222,
             "#7201a8"
            ],
            [
             0.3333333333333333,
             "#9c179e"
            ],
            [
             0.4444444444444444,
             "#bd3786"
            ],
            [
             0.5555555555555556,
             "#d8576b"
            ],
            [
             0.6666666666666666,
             "#ed7953"
            ],
            [
             0.7777777777777778,
             "#fb9f3a"
            ],
            [
             0.8888888888888888,
             "#fdca26"
            ],
            [
             1,
             "#f0f921"
            ]
           ]
          },
          "colorway": [
           "#636efa",
           "#EF553B",
           "#00cc96",
           "#ab63fa",
           "#FFA15A",
           "#19d3f3",
           "#FF6692",
           "#B6E880",
           "#FF97FF",
           "#FECB52"
          ],
          "font": {
           "color": "#2a3f5f"
          },
          "geo": {
           "bgcolor": "white",
           "lakecolor": "white",
           "landcolor": "#E5ECF6",
           "showlakes": true,
           "showland": true,
           "subunitcolor": "white"
          },
          "hoverlabel": {
           "align": "left"
          },
          "hovermode": "closest",
          "mapbox": {
           "style": "light"
          },
          "paper_bgcolor": "white",
          "plot_bgcolor": "#E5ECF6",
          "polar": {
           "angularaxis": {
            "gridcolor": "white",
            "linecolor": "white",
            "ticks": ""
           },
           "bgcolor": "#E5ECF6",
           "radialaxis": {
            "gridcolor": "white",
            "linecolor": "white",
            "ticks": ""
           }
          },
          "scene": {
           "xaxis": {
            "backgroundcolor": "#E5ECF6",
            "gridcolor": "white",
            "gridwidth": 2,
            "linecolor": "white",
            "showbackground": true,
            "ticks": "",
            "zerolinecolor": "white"
           },
           "yaxis": {
            "backgroundcolor": "#E5ECF6",
            "gridcolor": "white",
            "gridwidth": 2,
            "linecolor": "white",
            "showbackground": true,
            "ticks": "",
            "zerolinecolor": "white"
           },
           "zaxis": {
            "backgroundcolor": "#E5ECF6",
            "gridcolor": "white",
            "gridwidth": 2,
            "linecolor": "white",
            "showbackground": true,
            "ticks": "",
            "zerolinecolor": "white"
           }
          },
          "shapedefaults": {
           "line": {
            "color": "#2a3f5f"
           }
          },
          "ternary": {
           "aaxis": {
            "gridcolor": "white",
            "linecolor": "white",
            "ticks": ""
           },
           "baxis": {
            "gridcolor": "white",
            "linecolor": "white",
            "ticks": ""
           },
           "bgcolor": "#E5ECF6",
           "caxis": {
            "gridcolor": "white",
            "linecolor": "white",
            "ticks": ""
           }
          },
          "title": {
           "x": 0.05
          },
          "xaxis": {
           "automargin": true,
           "gridcolor": "white",
           "linecolor": "white",
           "ticks": "",
           "title": {
            "standoff": 15
           },
           "zerolinecolor": "white",
           "zerolinewidth": 2
          },
          "yaxis": {
           "automargin": true,
           "gridcolor": "white",
           "linecolor": "white",
           "ticks": "",
           "title": {
            "standoff": 15
           },
           "zerolinecolor": "white",
           "zerolinewidth": 2
          }
         }
        },
        "title": {
         "text": "Followers"
        },
        "width": 1200,
        "xaxis": {
         "anchor": "y",
         "autorange": true,
         "domain": [
          0,
          1
         ],
         "range": [
          "2020-06-13 09:35:22.7787",
          "2020-06-24 14:24:37.2213"
         ],
         "type": "date"
        },
        "yaxis": {
         "anchor": "x",
         "autorange": true,
         "domain": [
          0,
          1
         ],
         "range": [
          4356.98687664042,
          4387.01312335958
         ],
         "type": "linear"
        }
       }
      },
      "image/png": "[encoded data removed]",
      "text/html": [
       "<div>\n",
       "        \n",
       "        \n",
       "            <div id=\"383857be-9fd9-41fd-bb30-8759a2d9d287\" class=\"plotly-graph-div\" style=\"height:400px; width:1200px;\"></div>\n",
       "            <script type=\"text/javascript\">\n",
       "                require([\"plotly\"], function(Plotly) {\n",
       "                    window.PLOTLYENV=window.PLOTLYENV || {};\n",
       "                    \n",
       "                if (document.getElementById(\"383857be-9fd9-41fd-bb30-8759a2d9d287\")) {\n",
       "                    Plotly.newPlot(\n",
       "                        '383857be-9fd9-41fd-bb30-8759a2d9d287',\n",
       "                        [{\"hovertemplate\": \"%{x} <br>Followers: %{y:.0}<br>\", \"line\": {\"dash\": \"dot\", \"width\": 1}, \"marker\": {\"color\": \"#449660\"}, \"mode\": \"lines+markers\", \"name\": \"Followers\", \"type\": \"scatter\", \"x\": [\"2020-06-14\", \"2020-06-15\", \"2020-06-16\", \"2020-06-17\", \"2020-06-18\", \"2020-06-19\", \"2020-06-21\", \"2020-06-22\", \"2020-06-23\", \"2020-06-24\"], \"xaxis\": \"x\", \"y\": [4359, 4365, 4365, 4365, 4367, 4367, 4375, 4375, 4379, 4385], \"yaxis\": \"y\"}],\n",
       "                        {\"height\": 400, \"paper_bgcolor\": \"rgba(0,0,0,0)\", \"plot_bgcolor\": \"rgba(0,0,0,0)\", \"template\": {\"data\": {\"bar\": [{\"error_x\": {\"color\": \"#2a3f5f\"}, \"error_y\": {\"color\": \"#2a3f5f\"}, \"marker\": {\"line\": {\"color\": \"#E5ECF6\", \"width\": 0.5}}, \"type\": \"bar\"}], \"barpolar\": [{\"marker\": {\"line\": {\"color\": \"#E5ECF6\", \"width\": 0.5}}, \"type\": \"barpolar\"}], \"carpet\": [{\"aaxis\": {\"endlinecolor\": \"#2a3f5f\", \"gridcolor\": \"white\", \"linecolor\": \"white\", \"minorgridcolor\": \"white\", \"startlinecolor\": \"#2a3f5f\"}, \"baxis\": {\"endlinecolor\": \"#2a3f5f\", \"gridcolor\": \"white\", \"linecolor\": \"white\", \"minorgridcolor\": \"white\", \"startlinecolor\": \"#2a3f5f\"}, \"type\": \"carpet\"}], \"choropleth\": [{\"colorbar\": {\"outlinewidth\": 0, \"ticks\": \"\"}, \"type\": \"choropleth\"}], \"contour\": [{\"colorbar\": {\"outlinewidth\": 0, \"ticks\": \"\"}, \"colorscale\": [[0.0, \"#0d0887\"], [0.1111111111111111, \"#46039f\"], [0.2222222222222222, \"#7201a8\"], [0.3333333333333333, \"#9c179e\"], [0.4444444444444444, \"#bd3786\"], [0.5555555555555556, \"#d8576b\"], [0.6666666666666666, \"#ed7953\"], [0.7777777777777778, \"#fb9f3a\"], [0.8888888888888888, \"#fdca26\"], [1.0, \"#f0f921\"]], \"type\": \"contour\"}], \"contourcarpet\": [{\"colorbar\": {\"outlinewidth\": 0, \"ticks\": \"\"}, \"type\": \"contourcarpet\"}], \"heatmap\": [{\"colorbar\": {\"outlinewidth\": 0, \"ticks\": \"\"}, \"colorscale\": [[0.0, \"#0d0887\"], [0.1111111111111111, \"#46039f\"], [0.2222222222222222, \"#7201a8\"], [0.3333333333333333, \"#9c179e\"], [0.4444444444444444, \"#bd3786\"], [0.5555555555555556, \"#d8576b\"], [0.6666666666666666, \"#ed7953\"], [0.7777777777777778, \"#fb9f3a\"], [0.8888888888888888, \"#fdca26\"], [1.0, \"#f0f921\"]], \"type\": \"heatmap\"}], \"heatmapgl\": [{\"colorbar\": {\"outlinewidth\": 0, \"ticks\": \"\"}, \"colorscale\": [[0.0, \"#0d0887\"], [0.1111111111111111, \"#46039f\"], [0.2222222222222222, \"#7201a8\"], [0.3333333333333333, \"#9c179e\"], [0.4444444444444444, \"#bd3786\"], [0.5555555555555556, \"#d8576b\"], [0.6666666666666666, \"#ed7953\"], [0.7777777777777778, \"#fb9f3a\"], [0.8888888888888888, \"#fdca26\"], [1.0, \"#f0f921\"]], \"type\": \"heatmapgl\"}], \"histogram\": [{\"marker\": {\"colorbar\": {\"outlinewidth\": 0, \"ticks\": \"\"}}, \"type\": \"histogram\"}], \"histogram2d\": [{\"colorbar\": {\"outlinewidth\": 0, \"ticks\": \"\"}, \"colorscale\": [[0.0, \"#0d0887\"], [0.1111111111111111, \"#46039f\"], [0.2222222222222222, \"#7201a8\"], [0.3333333333333333, \"#9c179e\"], [0.4444444444444444, \"#bd3786\"], [0.5555555555555556, \"#d8576b\"], [0.6666666666666666, \"#ed7953\"], [0.7777777777777778, \"#fb9f3a\"], [0.8888888888888888, \"#fdca26\"], [1.0, \"#f0f921\"]], \"type\": \"histogram2d\"}], \"histogram2dcontour\": [{\"colorbar\": {\"outlinewidth\": 0, \"ticks\": \"\"}, \"colorscale\": [[0.0, \"#0d0887\"], [0.1111111111111111, \"#46039f\"], [0.2222222222222222, \"#7201a8\"], [0.3333333333333333, \"#9c179e\"], [0.4444444444444444, \"#bd3786\"], [0.5555555555555556, \"#d8576b\"], [0.6666666666666666, \"#ed7953\"], [0.7777777777777778, \"#fb9f3a\"], [0.8888888888888888, \"#fdca26\"], [1.0, \"#f0f921\"]], \"type\": \"histogram2dcontour\"}], \"mesh3d\": [{\"colorbar\": {\"outlinewidth\": 0, \"ticks\": \"\"}, \"type\": \"mesh3d\"}], \"parcoords\": [{\"line\": {\"colorbar\": {\"outlinewidth\": 0, \"ticks\": \"\"}}, \"type\": \"parcoords\"}], \"pie\": [{\"automargin\": true, \"type\": \"pie\"}], \"scatter\": [{\"marker\": {\"colorbar\": {\"outlinewidth\": 0, \"ticks\": \"\"}}, \"type\": \"scatter\"}], \"scatter3d\": [{\"line\": {\"colorbar\": {\"outlinewidth\": 0, \"ticks\": \"\"}}, \"marker\": {\"colorbar\": {\"outlinewidth\": 0, \"ticks\": \"\"}}, \"type\": \"scatter3d\"}], \"scattercarpet\": [{\"marker\": {\"colorbar\": {\"outlinewidth\": 0, \"ticks\": \"\"}}, \"type\": \"scattercarpet\"}], \"scattergeo\": [{\"marker\": {\"colorbar\": {\"outlinewidth\": 0, \"ticks\": \"\"}}, \"type\": \"scattergeo\"}], \"scattergl\": [{\"marker\": {\"colorbar\": {\"outlinewidth\": 0, \"ticks\": \"\"}}, \"type\": \"scattergl\"}], \"scattermapbox\": [{\"marker\": {\"colorbar\": {\"outlinewidth\": 0, \"ticks\": \"\"}}, \"type\": \"scattermapbox\"}], \"scatterpolar\": [{\"marker\": {\"colorbar\": {\"outlinewidth\": 0, \"ticks\": \"\"}}, \"type\": \"scatterpolar\"}], \"scatterpolargl\": [{\"marker\": {\"colorbar\": {\"outlinewidth\": 0, \"ticks\": \"\"}}, \"type\": \"scatterpolargl\"}], \"scatterternary\": [{\"marker\": {\"colorbar\": {\"outlinewidth\": 0, \"ticks\": \"\"}}, \"type\": \"scatterternary\"}], \"surface\": [{\"colorbar\": {\"outlinewidth\": 0, \"ticks\": \"\"}, \"colorscale\": [[0.0, \"#0d0887\"], [0.1111111111111111, \"#46039f\"], [0.2222222222222222, \"#7201a8\"], [0.3333333333333333, \"#9c179e\"], [0.4444444444444444, \"#bd3786\"], [0.5555555555555556, \"#d8576b\"], [0.6666666666666666, \"#ed7953\"], [0.7777777777777778, \"#fb9f3a\"], [0.8888888888888888, \"#fdca26\"], [1.0, \"#f0f921\"]], \"type\": \"surface\"}], \"table\": [{\"cells\": {\"fill\": {\"color\": \"#EBF0F8\"}, \"line\": {\"color\": \"white\"}}, \"header\": {\"fill\": {\"color\": \"#C8D4E3\"}, \"line\": {\"color\": \"white\"}}, \"type\": \"table\"}]}, \"layout\": {\"annotationdefaults\": {\"arrowcolor\": \"#2a3f5f\", \"arrowhead\": 0, \"arrowwidth\": 1}, \"coloraxis\": {\"colorbar\": {\"outlinewidth\": 0, \"ticks\": \"\"}}, \"colorscale\": {\"diverging\": [[0, \"#8e0152\"], [0.1, \"#c51b7d\"], [0.2, \"#de77ae\"], [0.3, \"#f1b6da\"], [0.4, \"#fde0ef\"], [0.5, \"#f7f7f7\"], [0.6, \"#e6f5d0\"], [0.7, \"#b8e186\"], [0.8, \"#7fbc41\"], [0.9, \"#4d9221\"], [1, \"#276419\"]], \"sequential\": [[0.0, \"#0d0887\"], [0.1111111111111111, \"#46039f\"], [0.2222222222222222, \"#7201a8\"], [0.3333333333333333, \"#9c179e\"], [0.4444444444444444, \"#bd3786\"], [0.5555555555555556, \"#d8576b\"], [0.6666666666666666, \"#ed7953\"], [0.7777777777777778, \"#fb9f3a\"], [0.8888888888888888, \"#fdca26\"], [1.0, \"#f0f921\"]], \"sequentialminus\": [[0.0, \"#0d0887\"], [0.1111111111111111, \"#46039f\"], [0.2222222222222222, \"#7201a8\"], [0.3333333333333333, \"#9c179e\"], [0.4444444444444444, \"#bd3786\"], [0.5555555555555556, \"#d8576b\"], [0.6666666666666666, \"#ed7953\"], [0.7777777777777778, \"#fb9f3a\"], [0.8888888888888888, \"#fdca26\"], [1.0, \"#f0f921\"]]}, \"colorway\": [\"#636efa\", \"#EF553B\", \"#00cc96\", \"#ab63fa\", \"#FFA15A\", \"#19d3f3\", \"#FF6692\", \"#B6E880\", \"#FF97FF\", \"#FECB52\"], \"font\": {\"color\": \"#2a3f5f\"}, \"geo\": {\"bgcolor\": \"white\", \"lakecolor\": \"white\", \"landcolor\": \"#E5ECF6\", \"showlakes\": true, \"showland\": true, \"subunitcolor\": \"white\"}, \"hoverlabel\": {\"align\": \"left\"}, \"hovermode\": \"closest\", \"mapbox\": {\"style\": \"light\"}, \"paper_bgcolor\": \"white\", \"plot_bgcolor\": \"#E5ECF6\", \"polar\": {\"angularaxis\": {\"gridcolor\": \"white\", \"linecolor\": \"white\", \"ticks\": \"\"}, \"bgcolor\": \"#E5ECF6\", \"radialaxis\": {\"gridcolor\": \"white\", \"linecolor\": \"white\", \"ticks\": \"\"}}, \"scene\": {\"xaxis\": {\"backgroundcolor\": \"#E5ECF6\", \"gridcolor\": \"white\", \"gridwidth\": 2, \"linecolor\": \"white\", \"showbackground\": true, \"ticks\": \"\", \"zerolinecolor\": \"white\"}, \"yaxis\": {\"backgroundcolor\": \"#E5ECF6\", \"gridcolor\": \"white\", \"gridwidth\": 2, \"linecolor\": \"white\", \"showbackground\": true, \"ticks\": \"\", \"zerolinecolor\": \"white\"}, \"zaxis\": {\"backgroundcolor\": \"#E5ECF6\", \"gridcolor\": \"white\", \"gridwidth\": 2, \"linecolor\": \"white\", \"showbackground\": true, \"ticks\": \"\", \"zerolinecolor\": \"white\"}}, \"shapedefaults\": {\"line\": {\"color\": \"#2a3f5f\"}}, \"ternary\": {\"aaxis\": {\"gridcolor\": \"white\", \"linecolor\": \"white\", \"ticks\": \"\"}, \"baxis\": {\"gridcolor\": \"white\", \"linecolor\": \"white\", \"ticks\": \"\"}, \"bgcolor\": \"#E5ECF6\", \"caxis\": {\"gridcolor\": \"white\", \"linecolor\": \"white\", \"ticks\": \"\"}}, \"title\": {\"x\": 0.05}, \"xaxis\": {\"automargin\": true, \"gridcolor\": \"white\", \"linecolor\": \"white\", \"ticks\": \"\", \"title\": {\"standoff\": 15}, \"zerolinecolor\": \"white\", \"zerolinewidth\": 2}, \"yaxis\": {\"automargin\": true, \"gridcolor\": \"white\", \"linecolor\": \"white\", \"ticks\": \"\", \"title\": {\"standoff\": 15}, \"zerolinecolor\": \"white\", \"zerolinewidth\": 2}}}, \"title\": {\"text\": \"Followers\"}, \"width\": 1200, \"xaxis\": {\"anchor\": \"y\", \"domain\": [0.0, 1.0]}, \"yaxis\": {\"anchor\": \"x\", \"domain\": [0.0, 1.0]}},\n",
       "                        {\"responsive\": true}\n",
       "                    ).then(function(){\n",
       "                            \n",
       "var gd = document.getElementById('383857be-9fd9-41fd-bb30-8759a2d9d287');\n",
       "var x = new MutationObserver(function (mutations, observer) {{\n",
       "        var display = window.getComputedStyle(gd).display;\n",
       "        if (!display || display === 'none') {{\n",
       "            console.log([gd, 'removed!']);\n",
       "            Plotly.purge(gd);\n",
       "            observer.disconnect();\n",
       "        }}\n",
       "}});\n",
       "\n",
       "// Listen for the removal of the full notebook cells\n",
       "var notebookContainer = gd.closest('#notebook-container');\n",
       "if (notebookContainer) {{\n",
       "    x.observe(notebookContainer, {childList: true});\n",
       "}}\n",
       "\n",
       "// Listen for the clearing of the current output cell\n",
       "var outputEl = gd.closest('.output');\n",
       "if (outputEl) {{\n",
       "    x.observe(outputEl, {childList: true});\n",
       "}}\n",
       "\n",
       "                        })\n",
       "                };\n",
       "                });\n",
       "            </script>\n",
       "        </div>"
      ]
     },
     "metadata": {},
     "output_type": "display_data"
    }
   ],
   "source": [
    "fig = make_subplots(1,1)\n",
    "\n",
    "_=fig.add_trace(go.Scatter(x=account.sort_index().index, y=account.sort_index(), marker_color = colors['green_dark'],\n",
    "                          hovertemplate = '%{x} <br>Followers: %{y:.0}<br>',\n",
    "                           name='Followers', mode='lines+markers',line = linestyle),\n",
    "                row=1,col=1)\n",
    "\n",
    "fig.update_layout(height=400, width=1200, \n",
    "                  title_text=\"Followers\",\n",
    "                  paper_bgcolor='rgba(0,0,0,0)',\n",
    "                plot_bgcolor='rgba(0,0,0,0)')\n",
    "\n",
    "\n",
    "\n",
    "# fig.write_html(\"outputs/followers.html\")"
   ]
  }
 ],
 "metadata": {
  "kernelspec": {
   "display_name": "Python 3",
   "language": "python",
   "name": "python3"
  },
  "language_info": {
   "codemirror_mode": {
    "name": "ipython",
    "version": 3
   },
   "file_extension": ".py",
   "mimetype": "text/x-python",
   "name": "python",
   "nbconvert_exporter": "python",
   "pygments_lexer": "ipython3",
   "version": "3.7.7"
  }
 },
 "nbformat": 4,
 "nbformat_minor": 4
}
