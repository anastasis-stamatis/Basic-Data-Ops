{
 "cells": [
  {
   "cell_type": "markdown",
   "metadata": {},
   "source": [
    "# Campaign Data"
   ]
  },
  {
   "cell_type": "markdown",
   "metadata": {},
   "source": [
    "Data analysis for a national environmental campagin. We wanted to understand:\n",
    "* Number of events\n",
    "* Number of school events\n",
    "* Number of participating schools\n",
    "* Number of volunteers from schols\n",
    "* Dates of events\n",
    "* Social media outreach\n",
    "* Specific participation from divers teams"
   ]
  },
  {
   "cell_type": "markdown",
   "metadata": {},
   "source": [
    "## Imports"
   ]
  },
  {
   "cell_type": "code",
   "execution_count": 1,
   "metadata": {},
   "outputs": [],
   "source": [
    "import pandas as pd\n",
    "import numpy as np\n",
    "import datetime\n",
    "import scipy.stats\n",
    "\n",
    "import matplotlib.pyplot as plt\n",
    "import seaborn as sns\n",
    "\n",
    "pd.set_option('display.max_columns',500)"
   ]
  },
  {
   "cell_type": "code",
   "execution_count": 2,
   "metadata": {},
   "outputs": [],
   "source": [
    "# Read input\n",
    "dfm = pd.read_csv('Files/activities.csv' ,sep = ';') # events dataset\n",
    "dfp = pd.read_csv('Files/organization_participations.csv' , sep = ';') # participants dataset"
   ]
  },
  {
   "cell_type": "code",
   "execution_count": 5,
   "metadata": {},
   "outputs": [],
   "source": [
    "# Output anonymized dataset for additional editing\n",
    "to_keep = ['id','activity_category','meetup_date','longitude','latitude']\n",
    "dfm[to_keep].to_csv('activities_anonymized.csv')"
   ]
  },
  {
   "cell_type": "markdown",
   "metadata": {},
   "source": [
    "# Preliminary Analysis"
   ]
  },
  {
   "cell_type": "code",
   "execution_count": 4,
   "metadata": {},
   "outputs": [
    {
     "name": "stdout",
     "output_type": "stream",
     "text": [
      "Δράσεις Συνολικά: 1595\n"
     ]
    }
   ],
   "source": [
    "# Total events number\n",
    "print ('Δράσεις Συνολικά:' , dfm.shape[0])"
   ]
  },
  {
   "cell_type": "code",
   "execution_count": 5,
   "metadata": {},
   "outputs": [
    {
     "name": "stdout",
     "output_type": "stream",
     "text": [
      "Δράσεις σχολείων: 862\n"
     ]
    }
   ],
   "source": [
    "# Events by schools\n",
    "print ('Δράσεις σχολείων:' , dfm[(dfm['activity_category_id'] == 2)].shape[0])"
   ]
  },
  {
   "cell_type": "markdown",
   "metadata": {},
   "source": [
    "# Feedback Analysis"
   ]
  },
  {
   "cell_type": "code",
   "execution_count": 3,
   "metadata": {},
   "outputs": [],
   "source": [
    "# Getting participants' feedback into account\n",
    "df_map = pd.read_csv('Files/activities.csv',sep=';')\n",
    "df = pd.read_csv('Files/activity_surveys.csv',sep = ';')\n",
    "dfs = pd.read_csv('Files/activity_surveys_schools.csv', sep = ';')"
   ]
  },
  {
   "cell_type": "code",
   "execution_count": 5,
   "metadata": {},
   "outputs": [
    {
     "name": "stderr",
     "output_type": "stream",
     "text": [
      "D:\\Anaconda\\lib\\site-packages\\xlsxwriter\\worksheet.py:912: UserWarning: Ignoring URL 'https://www.youtube.com/watch?v=C6jnWZvBQBU%20σας%20στελνω%20το%20βιντεο%20του%20κ.Παπαδοπουλου%20ο%20οποιος%20χρησιμοποιησε%20τις%20φωτο%20που%20ανεβασαμε%20στη%20σελιδα%20μας%20στο%20φβ.%20Αν%20θελετε%20δικο%20μας%20βιντεο%20μπορω%20να%20σας%20στειλω%20μεσω%20μειλ' with link or location/anchor > 255 characters since it exceeds Excel's limit for URLS\n",
      "  force_unicode(url))\n"
     ]
    }
   ],
   "source": [
    "# Exporting open-ended comments for further analysis\n",
    "df.sort_values(by = 'special_moment', ascending = False,inplace=True)\n",
    "df.to_excel('Files/sunday_open.xlsx')"
   ]
  },
  {
   "cell_type": "code",
   "execution_count": 20,
   "metadata": {},
   "outputs": [
    {
     "name": "stderr",
     "output_type": "stream",
     "text": [
      "D:\\Anaconda\\lib\\site-packages\\ipykernel_launcher.py:1: FutureWarning: The signature of `Series.to_csv` was aligned to that of `DataFrame.to_csv`, and argument 'header' will change its default value from False to True: please pass an explicit value to suppress this warning.\n",
      "  \"\"\"Entry point for launching an IPython kernel.\n",
      "D:\\Anaconda\\lib\\site-packages\\ipykernel_launcher.py:2: FutureWarning: The signature of `Series.to_csv` was aligned to that of `DataFrame.to_csv`, and argument 'header' will change its default value from False to True: please pass an explicit value to suppress this warning.\n",
      "  \n"
     ]
    }
   ],
   "source": [
    "# Get emails to send the participation note to\n",
    "pd.Series(df['email'].unique()).to_csv('email_epainos_sunday.csv')\n",
    "pd.Series(dfs['email'].unique()).to_csv('email_epainos_schools.csv')"
   ]
  },
  {
   "cell_type": "markdown",
   "metadata": {},
   "source": [
    "# School Participations"
   ]
  },
  {
   "cell_type": "code",
   "execution_count": 2,
   "metadata": {},
   "outputs": [],
   "source": [
    "dfp = pd.read_csv('Files/organization_participations.csv' , sep = ';')"
   ]
  },
  {
   "cell_type": "code",
   "execution_count": 3,
   "metadata": {},
   "outputs": [
    {
     "data": {
      "text/plain": [
       "(4770, 20)"
      ]
     },
     "execution_count": 3,
     "metadata": {},
     "output_type": "execute_result"
    }
   ],
   "source": [
    "dfp.shape"
   ]
  },
  {
   "cell_type": "code",
   "execution_count": 4,
   "metadata": {},
   "outputs": [],
   "source": [
    "df =dfp[dfp['sector']== 'Σχολείο']"
   ]
  },
  {
   "cell_type": "markdown",
   "metadata": {},
   "source": [
    "# Activity analysis"
   ]
  },
  {
   "cell_type": "code",
   "execution_count": 15,
   "metadata": {},
   "outputs": [],
   "source": [
    "df = pd.read_csv('Files/activities.csv',sep=';')"
   ]
  },
  {
   "cell_type": "code",
   "execution_count": 16,
   "metadata": {},
   "outputs": [],
   "source": [
    "df.loc[:,'meetup_date'] = pd.to_datetime(df.loc[:,'meetup_date'])\n",
    "df.loc[:,'meetup_date'] = [df.loc[i, 'meetup_date'].replace(tzinfo=None) for i in df.index]\n",
    "df.loc[:,'meetup_date'] = [df.loc[i,'meetup_date'].strftime('%x') for i in df.index]"
   ]
  },
  {
   "cell_type": "code",
   "execution_count": 17,
   "metadata": {},
   "outputs": [],
   "source": [
    "df = df[df['activity_category_id']==2]"
   ]
  },
  {
   "cell_type": "code",
   "execution_count": 21,
   "metadata": {},
   "outputs": [],
   "source": [
    "df['name'] = df['name'].str.lower()"
   ]
  },
  {
   "cell_type": "markdown",
   "metadata": {},
   "source": [
    "# Participant estimate - schools"
   ]
  },
  {
   "cell_type": "code",
   "execution_count": 29,
   "metadata": {},
   "outputs": [],
   "source": [
    "df = pd.read_csv('Files/activity_surveys_schools.csv', sep = ';')"
   ]
  },
  {
   "cell_type": "code",
   "execution_count": 35,
   "metadata": {},
   "outputs": [],
   "source": [
    "df.drop_duplicates('email', inplace = True)"
   ]
  },
  {
   "cell_type": "code",
   "execution_count": 37,
   "metadata": {},
   "outputs": [],
   "source": [
    "df.sort_values(by = 'participation_estimate_number',inplace = True)"
   ]
  },
  {
   "cell_type": "code",
   "execution_count": 45,
   "metadata": {},
   "outputs": [],
   "source": [
    "d = df[df['participation_estimate_number']>10]\n",
    "d = d[d['participation_estimate_number']<600]"
   ]
  },
  {
   "cell_type": "code",
   "execution_count": 46,
   "metadata": {},
   "outputs": [
    {
     "data": {
      "text/html": [
       "<div>\n",
       "<style scoped>\n",
       "    .dataframe tbody tr th:only-of-type {\n",
       "        vertical-align: middle;\n",
       "    }\n",
       "\n",
       "    .dataframe tbody tr th {\n",
       "        vertical-align: top;\n",
       "    }\n",
       "\n",
       "    .dataframe thead th {\n",
       "        text-align: right;\n",
       "    }\n",
       "</style>\n",
       "<table border=\"1\" class=\"dataframe\">\n",
       "  <thead>\n",
       "    <tr style=\"text-align: right;\">\n",
       "      <th></th>\n",
       "      <th>id</th>\n",
       "      <th>participation_estimate_number</th>\n",
       "    </tr>\n",
       "  </thead>\n",
       "  <tbody>\n",
       "    <tr>\n",
       "      <th>count</th>\n",
       "      <td>465.000000</td>\n",
       "      <td>465.000000</td>\n",
       "    </tr>\n",
       "    <tr>\n",
       "      <th>mean</th>\n",
       "      <td>450.275269</td>\n",
       "      <td>66.703226</td>\n",
       "    </tr>\n",
       "    <tr>\n",
       "      <th>std</th>\n",
       "      <td>195.960932</td>\n",
       "      <td>63.857314</td>\n",
       "    </tr>\n",
       "    <tr>\n",
       "      <th>min</th>\n",
       "      <td>1.000000</td>\n",
       "      <td>11.000000</td>\n",
       "    </tr>\n",
       "    <tr>\n",
       "      <th>25%</th>\n",
       "      <td>283.000000</td>\n",
       "      <td>27.000000</td>\n",
       "    </tr>\n",
       "    <tr>\n",
       "      <th>50%</th>\n",
       "      <td>428.000000</td>\n",
       "      <td>45.000000</td>\n",
       "    </tr>\n",
       "    <tr>\n",
       "      <th>75%</th>\n",
       "      <td>593.000000</td>\n",
       "      <td>80.000000</td>\n",
       "    </tr>\n",
       "    <tr>\n",
       "      <th>max</th>\n",
       "      <td>822.000000</td>\n",
       "      <td>500.000000</td>\n",
       "    </tr>\n",
       "  </tbody>\n",
       "</table>\n",
       "</div>"
      ],
      "text/plain": [
       "               id  participation_estimate_number\n",
       "count  465.000000                     465.000000\n",
       "mean   450.275269                      66.703226\n",
       "std    195.960932                      63.857314\n",
       "min      1.000000                      11.000000\n",
       "25%    283.000000                      27.000000\n",
       "50%    428.000000                      45.000000\n",
       "75%    593.000000                      80.000000\n",
       "max    822.000000                     500.000000"
      ]
     },
     "execution_count": 46,
     "metadata": {},
     "output_type": "execute_result"
    }
   ],
   "source": [
    "d.describe()"
   ]
  },
  {
   "cell_type": "code",
   "execution_count": 20,
   "metadata": {},
   "outputs": [],
   "source": [
    "def mean_confidence_interval(data, confidence=0.95):\n",
    "    a = 1.0 * np.array(data)\n",
    "    n = len(a)\n",
    "    m, se = np.mean(a), scipy.stats.sem(a)\n",
    "    h = se * scipy.stats.t.ppf((1 + confidence) / 2., n-1)\n",
    "    return m, m-h, m+h"
   ]
  },
  {
   "cell_type": "code",
   "execution_count": 73,
   "metadata": {},
   "outputs": [
    {
     "data": {
      "text/plain": [
       "(57.451398135818906, 52.37634942383048, 62.52644684780733)"
      ]
     },
     "execution_count": 73,
     "metadata": {},
     "output_type": "execute_result"
    }
   ],
   "source": [
    "mean_confidence_interval(df['participation_estimate_number'].iloc[:-1], confidence = 0.95)"
   ]
  },
  {
   "cell_type": "code",
   "execution_count": 74,
   "metadata": {},
   "outputs": [
    {
     "name": "stdout",
     "output_type": "stream",
     "text": [
      "Total events 44828.72\n"
     ]
    }
   ],
   "source": [
    "print('Total events', 52.37*856)"
   ]
  },
  {
   "cell_type": "markdown",
   "metadata": {},
   "source": [
    "# Activity Analysis"
   ]
  },
  {
   "cell_type": "code",
   "execution_count": 216,
   "metadata": {},
   "outputs": [],
   "source": [
    "df = pd.read_csv('Files/activities.csv',sep=';')"
   ]
  },
  {
   "cell_type": "code",
   "execution_count": 217,
   "metadata": {},
   "outputs": [],
   "source": [
    "df.loc[:,'meetup_date'] = pd.to_datetime(df.loc[:,'meetup_date'])\n",
    "df.loc[:,'meetup_date'] = [df.loc[i, 'meetup_date'].replace(tzinfo=None) for i in df.index]\n",
    "df.loc[:,'meetup_date'] = [df.loc[i,'meetup_date'].strftime('%x') for i in df.index]"
   ]
  },
  {
   "cell_type": "code",
   "execution_count": 219,
   "metadata": {},
   "outputs": [
    {
     "data": {
      "text/plain": [
       "02/28/19      1\n",
       "03/20/19      1\n",
       "03/21/19      5\n",
       "03/23/19      1\n",
       "03/26/19      1\n",
       "03/27/19      2\n",
       "03/28/19      1\n",
       "03/29/19      2\n",
       "03/30/19      2\n",
       "03/31/19      8\n",
       "04/01/19     99\n",
       "04/02/19     74\n",
       "04/03/19     97\n",
       "04/04/19    161\n",
       "04/05/19    221\n",
       "04/06/19     40\n",
       "04/07/19    756\n",
       "04/08/19     10\n",
       "04/09/19      6\n",
       "04/10/19     13\n",
       "04/11/19      8\n",
       "04/12/19     12\n",
       "04/13/19     12\n",
       "04/14/19     35\n",
       "04/15/19      2\n",
       "04/17/19      3\n",
       "04/18/19      4\n",
       "04/19/19      4\n",
       "04/20/19      4\n",
       "04/21/19      1\n",
       "04/22/19      2\n",
       "04/23/19      1\n",
       "04/27/19      1\n",
       "05/01/19      1\n",
       "05/05/19      1\n",
       "05/09/19      1\n",
       "05/16/19      1\n",
       "05/17/19      1\n",
       "Name: meetup_date, dtype: int64"
      ]
     },
     "execution_count": 219,
     "metadata": {},
     "output_type": "execute_result"
    }
   ],
   "source": [
    "df['meetup_date'].value_counts().sort_index()"
   ]
  },
  {
   "cell_type": "markdown",
   "metadata": {},
   "source": [
    "Dates:\n",
    "\n",
    "1/4: 99\n",
    "2/4: 74\n",
    "3/4: 97\n",
    "4/4: 161\n",
    "5/4: 221\n",
    "6/4: 40\n",
    "7/4: 756\n",
    "rest: 147"
   ]
  },
  {
   "cell_type": "markdown",
   "metadata": {},
   "source": [
    "# Social media"
   ]
  },
  {
   "cell_type": "code",
   "execution_count": 222,
   "metadata": {},
   "outputs": [],
   "source": [
    "dfs = pd.read_csv(\"Files/Facebook Insights Data Export - Let's do it Greece - 2019-05-26.csv\")\n",
    "dfs1 = pd.read_csv(\"Files/Facebook Insights Data Export - Let's do it Greece - 2019-05-26(1).csv\")\n",
    "dfv = pd.read_csv(\"Files/Facebook Insights Data Export (Video Posts) - Let's do it Greece - 2019-05-26.csv\")\n",
    "dfv1 = pd.read_csv(\"Files/Facebook Insights Data Export (Video Posts) - Let's do it Greece - 2019-05-26(1).csv\")"
   ]
  },
  {
   "cell_type": "code",
   "execution_count": 223,
   "metadata": {},
   "outputs": [],
   "source": [
    "dfs.columns = [dfs.columns, dfs.iloc[0,:]]\n",
    "dfs.drop(0,axis=0,inplace=True)"
   ]
  },
  {
   "cell_type": "code",
   "execution_count": 224,
   "metadata": {},
   "outputs": [],
   "source": [
    "dfs1.columns = [dfs1.columns, dfs1.iloc[0,:]]\n",
    "dfs1.drop(0,axis=0,inplace=True)\n",
    "dfv1.columns = [dfv1.columns, dfv1.iloc[0,:]]\n",
    "dfv1.drop(0,axis=0,inplace=True)\n",
    "dfv.columns = [dfv.columns, dfv.iloc[0,:]]\n",
    "dfv.drop(0,axis=0,inplace=True)"
   ]
  },
  {
   "cell_type": "code",
   "execution_count": 68,
   "metadata": {},
   "outputs": [
    {
     "data": {
      "text/plain": [
       "Lifetime Total Video Views    125470\n",
       "dtype: int64"
      ]
     },
     "execution_count": 68,
     "metadata": {},
     "output_type": "execute_result"
    }
   ],
   "source": [
    "dfv['Lifetime Total Video Views'].astype('int64').sum(axis=0) + dfv1['Lifetime Total Video Views'].astype('int64').sum(axis=0)"
   ]
  },
  {
   "cell_type": "code",
   "execution_count": 69,
   "metadata": {},
   "outputs": [
    {
     "data": {
      "text/plain": [
       "Daily Total Reach    1425444\n",
       "dtype: int64"
      ]
     },
     "execution_count": 69,
     "metadata": {},
     "output_type": "execute_result"
    }
   ],
   "source": [
    "dfs['Daily Total Reach'].astype('int64').sum(axis=0) + dfs1['Daily Total Reach'].astype('int64').sum(axis=0)"
   ]
  },
  {
   "cell_type": "code",
   "execution_count": 58,
   "metadata": {},
   "outputs": [
    {
     "data": {
      "text/plain": [
       "Daily Viral impressions    627993\n",
       "dtype: int64"
      ]
     },
     "execution_count": 58,
     "metadata": {},
     "output_type": "execute_result"
    }
   ],
   "source": [
    "dfs['Daily Viral impressions'].astype('int64').sum(axis=0) + dfs1['Daily Viral impressions'].astype('int64').sum(axis=0)"
   ]
  },
  {
   "cell_type": "code",
   "execution_count": 60,
   "metadata": {},
   "outputs": [
    {
     "data": {
      "text/plain": [
       "Daily Organic impressions    1056052\n",
       "dtype: int64"
      ]
     },
     "execution_count": 60,
     "metadata": {},
     "output_type": "execute_result"
    }
   ],
   "source": [
    "col = \"Daily Organic impressions\"\n",
    "dfs[col].astype('int64').sum(axis=0) + dfs1[col].astype('int64').sum(axis=0)"
   ]
  },
  {
   "cell_type": "code",
   "execution_count": 64,
   "metadata": {},
   "outputs": [
    {
     "data": {
      "text/plain": [
       "Daily Paid Impressions    827651\n",
       "dtype: int64"
      ]
     },
     "execution_count": 64,
     "metadata": {},
     "output_type": "execute_result"
    }
   ],
   "source": [
    "col = \"Daily Paid Impressions\"\n",
    "dfs[col].dropna().astype('int64').sum(axis=0) + dfs1[col].dropna().astype('int64').sum(axis=0)"
   ]
  },
  {
   "cell_type": "code",
   "execution_count": 175,
   "metadata": {},
   "outputs": [
    {
     "data": {
      "text/plain": [
       "[{'Daily Paid Impressions': 827651},\n",
       " {'Daily Total Impressions': 1898071},\n",
       " {'Daily Total Impressions of your posts': 1850922},\n",
       " {'Daily Viral Impressions Of Your Posts': 595313}]"
      ]
     },
     "execution_count": 175,
     "metadata": {},
     "output_type": "execute_result"
    }
   ],
   "source": [
    "[{s: df.loc[:,s].dropna().astype('int64').sum(axis=0)} for s in df.loc[:,df.columns.str.contains('Impressions')].columns]"
   ]
  },
  {
   "cell_type": "markdown",
   "metadata": {},
   "source": [
    "# Divers groups"
   ]
  },
  {
   "cell_type": "markdown",
   "metadata": {},
   "source": [
    "We were asked to fetch data on divers groups for the national campaign"
   ]
  },
  {
   "cell_type": "code",
   "execution_count": 4,
   "metadata": {},
   "outputs": [],
   "source": [
    "dfm = pd.read_csv('Files/activities.csv' ,sep = ';')\n",
    "dfp = pd.read_csv('Files/organization_participations.csv' , sep = ';')"
   ]
  },
  {
   "cell_type": "code",
   "execution_count": 23,
   "metadata": {},
   "outputs": [],
   "source": [
    "divers_phrase = ['δυτ', 'div', 'υποθ']\n",
    "divers = '|'.join(divers_phrase)\n",
    "d_map = dfm[dfm[\"organization_name\"].str.contains(divers, case = False).fillna(value = False)]['organization_name']"
   ]
  },
  {
   "cell_type": "code",
   "execution_count": 26,
   "metadata": {},
   "outputs": [],
   "source": [
    "divers_phrase = ['δυτ', 'div', 'υποθ']\n",
    "divers = '|'.join(divers_phrase)\n",
    "d_part = dfp[dfp[\"name\"].str.contains(divers, case = False).fillna(value = False)]['name']"
   ]
  },
  {
   "cell_type": "code",
   "execution_count": 42,
   "metadata": {},
   "outputs": [],
   "source": [
    "dm = d_map.to_frame().drop_duplicates()\n",
    "dm['source'] = 'activities'\n",
    "dp = d_part.to_frame().drop_duplicates()\n",
    "dp.columns = ['organization_name']\n",
    "dp['source'] = 'participations'\n",
    "\n",
    "df = pd.concat([dm,dp],axis=0)"
   ]
  },
  {
   "cell_type": "code",
   "execution_count": null,
   "metadata": {},
   "outputs": [],
   "source": [
    "id_drop = [579,1167,328,1832,3716,3772,3773,3774,3775,3776,3777,3899,3940,4391,4594,4140,1367,2103,3178] # false positives\n",
    "df.drop(index = id_drop,inplace=True)"
   ]
  },
  {
   "cell_type": "code",
   "execution_count": 59,
   "metadata": {},
   "outputs": [],
   "source": [
    "df.drop_duplicates(subset = 'organization_name',keep='last',inplace = True)\n",
    "df.drop(labels = ['source'],inplace=True,axis=1)"
   ]
  }
 ],
 "metadata": {
  "kernelspec": {
   "display_name": "Python 3",
   "language": "python",
   "name": "python3"
  },
  "language_info": {
   "codemirror_mode": {
    "name": "ipython",
    "version": 3
   },
   "file_extension": ".py",
   "mimetype": "text/x-python",
   "name": "python",
   "nbconvert_exporter": "python",
   "pygments_lexer": "ipython3",
   "version": "3.7.7"
  },
  "toc-autonumbering": true
 },
 "nbformat": 4,
 "nbformat_minor": 4
}
