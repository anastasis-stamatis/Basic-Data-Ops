{
 "cells": [
  {
   "cell_type": "markdown",
   "metadata": {},
   "source": [
    "# Cleaning a list of phone numbers"
   ]
  },
  {
   "cell_type": "markdown",
   "metadata": {},
   "source": [
    "One of the most common tasks in Data Science, cleaning data and bringing it to a suitable format. When participants registered, they were giving their phone numbers in a number of different formats. We cleaned and sorted everything together, so that we would be able to communicate with them via SMS if necessary. "
   ]
  },
  {
   "cell_type": "markdown",
   "metadata": {},
   "source": [
    "Formats included:\n",
    "* Phone numbers with symbols (e.g. 99999@)\n",
    "* Phone numbers starting with the national code (e.g. +30 or 0030 222222)\n",
    "* Phone numbers with slash (e.g. 2222233333 /22)\n",
    "* Two or more phone numbers (e.g. 22200001199 or 22200033399)\n",
    "\n",
    "Phone numbers will not be shown for anonymization purposes."
   ]
  },
  {
   "cell_type": "code",
   "execution_count": 62,
   "metadata": {},
   "outputs": [],
   "source": [
    "import pandas as pd\n",
    "import numpy as np\n",
    "import re\n",
    "\n",
    "pd.set_option('display.max_rows',5000)"
   ]
  },
  {
   "cell_type": "code",
   "execution_count": 64,
   "metadata": {},
   "outputs": [],
   "source": [
    "df = pd.read_csv('Files/organization_participations-190910.csv',sep=';')"
   ]
  },
  {
   "cell_type": "code",
   "execution_count": 37,
   "metadata": {},
   "outputs": [],
   "source": [
    "df.set_index('id',inplace=True)"
   ]
  },
  {
   "cell_type": "code",
   "execution_count": 38,
   "metadata": {},
   "outputs": [],
   "source": [
    "d = df['phone'].to_frame()"
   ]
  },
  {
   "cell_type": "code",
   "execution_count": 40,
   "metadata": {},
   "outputs": [],
   "source": [
    "a = [i for i in d]"
   ]
  },
  {
   "cell_type": "markdown",
   "metadata": {},
   "source": [
    "'@', space, (), - , letters\n",
    "i.e. keep only numbers\n",
    "\n",
    "starting by 30 or 00: 12 or 14 digits\n",
    "starting by 2 or 6: 10 digits\n",
    "if >1 10-digit number: keep the one starting with 6"
   ]
  },
  {
   "cell_type": "markdown",
   "metadata": {},
   "source": [
    "# Create valid regex"
   ]
  },
  {
   "cell_type": "code",
   "execution_count": 41,
   "metadata": {},
   "outputs": [],
   "source": [
    "r_10_m = r'^69\\d{8}' # 10 digits, mobile\n",
    "r_10_l = r'^2\\d{9}' # 10 digits, landline\n",
    "r_14_m = r'^003069\\d{8}' # 14 digits, mobile (incl national code)\n",
    "r_14_l = r'^00302\\d{9}'\n",
    "r_13_m = r'^3069\\d{8}' # 34 digits, mobile (incl national code)\n",
    "r_13_l = r'^302\\d{9}'\n",
    "reg_list = [ r_10_m,r_10_l,  r_13_m,r_13_l,  r_14_m , r_14_l]\n",
    "reg_names = ['10_mobile', '10_landline',  '13_mobile', '13_landline',  '14_mobile' , '14_landline']"
   ]
  },
  {
   "cell_type": "code",
   "execution_count": 42,
   "metadata": {},
   "outputs": [],
   "source": [
    "d['phone_clear'] = d['phone'].str.replace('[^0-9]',\"\", regex=True)"
   ]
  },
  {
   "cell_type": "markdown",
   "metadata": {},
   "source": [
    "# Fix concatenation"
   ]
  },
  {
   "cell_type": "markdown",
   "metadata": {},
   "source": [
    "Get all phone numbers from all the entries. Some entries contained up to 3 different numbers."
   ]
  },
  {
   "cell_type": "code",
   "execution_count": 44,
   "metadata": {},
   "outputs": [
    {
     "name": "stdout",
     "output_type": "stream",
     "text": [
      "14_landline\n",
      "(4776, 1)\n",
      "(4619, 2)\n",
      "14_mobile\n",
      "(4776, 1)\n",
      "(4615, 2)\n",
      "13_landline\n",
      "(4776, 1)\n",
      "(4611, 2)\n",
      "13_mobile\n",
      "(4776, 1)\n",
      "(4595, 2)\n",
      "10_landline\n",
      "(4776, 1)\n",
      "(2276, 2)\n",
      "10_mobile\n",
      "(4776, 1)\n",
      "(197, 2)\n"
     ]
    }
   ],
   "source": [
    "phones = pd.DataFrame(index = d.index)\n",
    "\n",
    "# 1st round\n",
    "\n",
    "for i in reversed(range(len(reg_list))):\n",
    "    reg = reg_list[i]\n",
    "    print (reg_names[i])\n",
    "    temp = pd.DataFrame([re.match(reg, i).group() if re.search(reg, i) else np.nan for i in d['phone_clear']])\n",
    "    print (temp.shape)\n",
    "    d['phone_clear'] = d['phone_clear'].str.replace(reg,'',regex=True,n=1)\n",
    "    print(d[d['phone_clear']!=''].shape)\n",
    "    temp.columns = np.array([reg_names[i]]*temp.shape[1])\n",
    "    temp.index = d.index\n",
    "    phones = pd.concat([phones, temp], axis=1,ignore_index = False, sort = False)"
   ]
  },
  {
   "cell_type": "markdown",
   "metadata": {},
   "source": [
    "## For each participant, keep only one of the phone numbers we found, starting from 10_mobile if it exists and working our way upwards to 14_landline."
   ]
  },
  {
   "cell_type": "code",
   "execution_count": 45,
   "metadata": {},
   "outputs": [
    {
     "name": "stdout",
     "output_type": "stream",
     "text": [
      "10_mobile\n",
      "10_landline\n",
      "13_mobile\n",
      "13_landline\n",
      "14_mobile\n",
      "14_landline\n",
      "188\n"
     ]
    }
   ],
   "source": [
    "phones['final'] =np.nan\n",
    "\n",
    "cols = phones.columns[:-1].tolist()\n",
    "cols.reverse()\n",
    "\n",
    "for c in cols:\n",
    "    print (c)\n",
    "    phones.loc[phones['final'].isna(),'final'] = phones.loc[phones['final'].isna(),c]\n",
    "print(phones['final'].isna().sum())"
   ]
  },
  {
   "cell_type": "code",
   "execution_count": 46,
   "metadata": {},
   "outputs": [
    {
     "data": {
      "text/plain": [
       "['10_mobile',\n",
       " '10_landline',\n",
       " '13_mobile',\n",
       " '13_landline',\n",
       " '14_mobile',\n",
       " '14_landline']"
      ]
     },
     "execution_count": 46,
     "metadata": {},
     "output_type": "execute_result"
    }
   ],
   "source": [
    "cols"
   ]
  },
  {
   "cell_type": "code",
   "execution_count": 47,
   "metadata": {},
   "outputs": [],
   "source": [
    "d['final'] = phones['final']\n",
    "d['id_final'] = phones.index\n",
    "d['num_digits'] = [len(a) for a in d['phone']]"
   ]
  },
  {
   "cell_type": "code",
   "execution_count": null,
   "metadata": {},
   "outputs": [],
   "source": [
    "a = d['id_final'] == d.index"
   ]
  },
  {
   "cell_type": "code",
   "execution_count": 50,
   "metadata": {},
   "outputs": [],
   "source": [
    "# Check results\n",
    "d_final = d.drop(columns = ['phone_clear', 'id_final']).sort_values(by='num_digits', ascending = False)"
   ]
  },
  {
   "cell_type": "code",
   "execution_count": 52,
   "metadata": {},
   "outputs": [],
   "source": [
    "# Remove national code\n",
    "r_0030 = r'^0030'\n",
    "r_30 = r'^30'\n",
    "\n",
    "a = d['final'].str.contains(r_0030,regex=True).fillna(value = False)\n",
    "b = d['final'].str.contains(r_30,regex=True).fillna(value = False)"
   ]
  },
  {
   "cell_type": "code",
   "execution_count": 53,
   "metadata": {},
   "outputs": [],
   "source": [
    "d['final'] = d['final'].str.replace(r_0030,'',regex=True)\n",
    "d['final'] = d['final'].str.replace(r_30,'',regex=True)"
   ]
  },
  {
   "cell_type": "code",
   "execution_count": 54,
   "metadata": {},
   "outputs": [],
   "source": [
    "# Fill NaNs for Database purposes\n",
    "d['final'].fillna(value = '0000000000',inplace=True)"
   ]
  },
  {
   "cell_type": "code",
   "execution_count": 55,
   "metadata": {},
   "outputs": [],
   "source": [
    "d['final_digits'] = [len(a) for a in d['final']]"
   ]
  },
  {
   "cell_type": "markdown",
   "metadata": {},
   "source": [
    "And this is how a task that would have taken hours of manual effort, can be easily done in python."
   ]
  },
  {
   "cell_type": "code",
   "execution_count": null,
   "metadata": {},
   "outputs": [],
   "source": []
  }
 ],
 "metadata": {
  "kernelspec": {
   "display_name": "Python 3",
   "language": "python",
   "name": "python3"
  },
  "language_info": {
   "codemirror_mode": {
    "name": "ipython",
    "version": 3
   },
   "file_extension": ".py",
   "mimetype": "text/x-python",
   "name": "python",
   "nbconvert_exporter": "python",
   "pygments_lexer": "ipython3",
   "version": "3.7.7"
  }
 },
 "nbformat": 4,
 "nbformat_minor": 4
}
